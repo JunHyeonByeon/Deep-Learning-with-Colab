{
  "nbformat": 4,
  "nbformat_minor": 0,
  "metadata": {
    "colab": {
      "name": "01.Cifar-100_colab.ipynb",
      "provenance": [],
      "collapsed_sections": [],
      "authorship_tag": "ABX9TyPJBXYvG6/CeUPoVspiApNE",
      "include_colab_link": true
    },
    "kernelspec": {
      "name": "python3",
      "display_name": "Python 3"
    },
    "accelerator": "GPU"
  },
  "cells": [
    {
      "cell_type": "markdown",
      "metadata": {
        "id": "view-in-github",
        "colab_type": "text"
      },
      "source": [
        "<a href=\"https://colab.research.google.com/github/JunHyeonByeon/Deep-Learning-with-Colab/blob/master/01_Cifar_100_colab.ipynb\" target=\"_parent\"><img src=\"https://colab.research.google.com/assets/colab-badge.svg\" alt=\"Open In Colab\"/></a>"
      ]
    },
    {
      "cell_type": "markdown",
      "metadata": {
        "id": "JQqSYtNfpqgc",
        "colab_type": "text"
      },
      "source": [
        "Cifar-100"
      ]
    },
    {
      "cell_type": "code",
      "metadata": {
        "id": "nAdHqtRRpp01",
        "colab_type": "code",
        "colab": {
          "base_uri": "https://localhost:8080/",
          "height": 35
        },
        "outputId": "da166ad3-bfd6-4a26-9439-17faa35f682e"
      },
      "source": [
        "%tensorflow_version 2.x\n",
        "import tensorflow as tf\n",
        "device_name = tf.test.gpu_device_name()\n",
        "if device_name != '/device:GPU:0':\n",
        "  raise SystemError('GPU device not found')\n",
        "print('Found GPU at: {}'.format(device_name))"
      ],
      "execution_count": null,
      "outputs": [
        {
          "output_type": "stream",
          "text": [
            "Found GPU at: /device:GPU:0\n"
          ],
          "name": "stdout"
        }
      ]
    },
    {
      "cell_type": "code",
      "metadata": {
        "id": "ep5UH6Xpp8Lk",
        "colab_type": "code",
        "colab": {}
      },
      "source": [
        "import tensorflow as tf\n",
        "from tensorflow.keras.datasets import cifar100\n",
        "(X_train, y_train), (X_test, y_test) = cifar100.load_data(label_mode='fine')"
      ],
      "execution_count": null,
      "outputs": []
    },
    {
      "cell_type": "code",
      "metadata": {
        "id": "dKukx0lQqVr8",
        "colab_type": "code",
        "colab": {
          "base_uri": "https://localhost:8080/",
          "height": 35
        },
        "outputId": "11175acc-7d5a-4a0c-aaf1-e1f11fc471ca"
      },
      "source": [
        "X_train.shape, X_test.shape"
      ],
      "execution_count": null,
      "outputs": [
        {
          "output_type": "execute_result",
          "data": {
            "text/plain": [
              "((50000, 32, 32, 3), (10000, 32, 32, 3))"
            ]
          },
          "metadata": {
            "tags": []
          },
          "execution_count": 3
        }
      ]
    },
    {
      "cell_type": "markdown",
      "metadata": {
        "id": "WtBdOczHqeW0",
        "colab_type": "text"
      },
      "source": [
        "데이터 확인"
      ]
    },
    {
      "cell_type": "code",
      "metadata": {
        "id": "-HQ3PaC8qfkF",
        "colab_type": "code",
        "colab": {}
      },
      "source": [
        "CIFAR100_LABELS = [\n",
        "    'apple', 'aquarium_fish', 'baby', 'bear', 'beaver', 'bed', 'bee', 'beetle', \n",
        "    'bicycle', 'bottle', 'bowl', 'boy', 'bridge', 'bus', 'butterfly', 'camel', \n",
        "    'can', 'castle', 'caterpillar', 'cattle', 'chair', 'chimpanzee', 'clock', \n",
        "    'cloud', 'cockroach', 'couch', 'crab', 'crocodile', 'cup', 'dinosaur', \n",
        "    'dolphin', 'elephant', 'flatfish', 'forest', 'fox', 'girl', 'hamster', \n",
        "    'house', 'kangaroo', 'keyboard', 'lamp', 'lawn_mower', 'leopard', 'lion',\n",
        "    'lizard', 'lobster', 'man', 'maple_tree', 'motorcycle', 'mountain', 'mouse',\n",
        "    'mushroom', 'oak_tree', 'orange', 'orchid', 'otter', 'palm_tree', 'pear',\n",
        "    'pickup_truck', 'pine_tree', 'plain', 'plate', 'poppy', 'porcupine',\n",
        "    'possum', 'rabbit', 'raccoon', 'ray', 'road', 'rocket', 'rose',\n",
        "    'sea', 'seal', 'shark', 'shrew', 'skunk', 'skyscraper', 'snail', 'snake',\n",
        "    'spider', 'squirrel', 'streetcar', 'sunflower', 'sweet_pepper', 'table',\n",
        "    'tank', 'telephone', 'television', 'tiger', 'tractor', 'train', 'trout',\n",
        "    'tulip', 'turtle', 'wardrobe', 'whale', 'willow_tree', 'wolf', 'woman',\n",
        "    'worm'\n",
        "]"
      ],
      "execution_count": null,
      "outputs": []
    },
    {
      "cell_type": "code",
      "metadata": {
        "id": "lsl-LXaEqiG7",
        "colab_type": "code",
        "colab": {
          "base_uri": "https://localhost:8080/",
          "height": 124
        },
        "outputId": "3f7a2c78-6ee2-463f-e0ed-1064bcbdf6bf"
      },
      "source": [
        "import matplotlib.pyplot as plt\n",
        "%matplotlib inline\n",
        "\n",
        "plt.subplot(141)\n",
        "plt.imshow(X_train[0], interpolation=\"bicubic\")\n",
        "plt.grid(False)\n",
        "plt.subplot(142)\n",
        "plt.imshow(X_train[4], interpolation=\"bicubic\")\n",
        "plt.grid(False)\n",
        "plt.subplot(143)\n",
        "plt.imshow(X_train[8], interpolation=\"bicubic\")\n",
        "plt.grid(False)\n",
        "plt.subplot(144)\n",
        "plt.imshow(X_train[12], interpolation=\"bicubic\")\n",
        "plt.grid(False)\n",
        "plt.show()"
      ],
      "execution_count": null,
      "outputs": [
        {
          "output_type": "display_data",
          "data": {
            "image/png": "[encoded data removed]",
            "text/plain": [
              "<Figure size 432x288 with 4 Axes>"
            ]
          },
          "metadata": {
            "tags": [],
            "needs_background": "light"
          }
        }
      ]
    },
    {
      "cell_type": "code",
      "metadata": {
        "id": "NKQ1DCUjqlaT",
        "colab_type": "code",
        "colab": {
          "base_uri": "https://localhost:8080/",
          "height": 35
        },
        "outputId": "129f00b3-9845-40c9-e055-b842cc4e236e"
      },
      "source": [
        "CIFAR100_LABELS[y_train[0][0]], CIFAR100_LABELS[y_train[4][0]], CIFAR100_LABELS[y_train[8][0]], CIFAR100_LABELS[y_train[12][0]]"
      ],
      "execution_count": null,
      "outputs": [
        {
          "output_type": "execute_result",
          "data": {
            "text/plain": [
              "('cattle', 'aquarium_fish', 'cloud', 'sunflower')"
            ]
          },
          "metadata": {
            "tags": []
          },
          "execution_count": 6
        }
      ]
    },
    {
      "cell_type": "markdown",
      "metadata": {
        "id": "4n3g5QHzq8PU",
        "colab_type": "text"
      },
      "source": [
        "#### 자료형 변환 및 스케일링\n",
        "- X: 실수형으로 정규화\n",
        "- Y: 1-hot encoding"
      ]
    },
    {
      "cell_type": "code",
      "metadata": {
        "id": "CYUuihGsqsbj",
        "colab_type": "code",
        "colab": {
          "base_uri": "https://localhost:8080/",
          "height": 35
        },
        "outputId": "d07be209-6685-4210-dba8-79d0fc705a43"
      },
      "source": [
        "X_train = X_train.astype('float32')/255.0\n",
        "X_test = X_test.astype('float32')/255.0\n",
        "\n",
        "print(X_train.shape, X_train.dtype)"
      ],
      "execution_count": null,
      "outputs": [
        {
          "output_type": "stream",
          "text": [
            "(50000, 32, 32, 3) float32\n"
          ],
          "name": "stdout"
        }
      ]
    },
    {
      "cell_type": "code",
      "metadata": {
        "id": "7Fv0yv78q_7S",
        "colab_type": "code",
        "colab": {
          "base_uri": "https://localhost:8080/",
          "height": 269
        },
        "outputId": "6f00f41b-20bc-4249-f465-b1906c69a9aa"
      },
      "source": [
        "Y_train = tf.keras.utils.to_categorical(y_train, 100)\n",
        "Y_test = tf.keras.utils.to_categorical(y_test, 100)\n",
        "Y_train[:2]"
      ],
      "execution_count": null,
      "outputs": [
        {
          "output_type": "execute_result",
          "data": {
            "text/plain": [
              "array([[0., 0., 0., 0., 0., 0., 0., 0., 0., 0., 0., 0., 0., 0., 0., 0.,\n",
              "        0., 0., 0., 1., 0., 0., 0., 0., 0., 0., 0., 0., 0., 0., 0., 0.,\n",
              "        0., 0., 0., 0., 0., 0., 0., 0., 0., 0., 0., 0., 0., 0., 0., 0.,\n",
              "        0., 0., 0., 0., 0., 0., 0., 0., 0., 0., 0., 0., 0., 0., 0., 0.,\n",
              "        0., 0., 0., 0., 0., 0., 0., 0., 0., 0., 0., 0., 0., 0., 0., 0.,\n",
              "        0., 0., 0., 0., 0., 0., 0., 0., 0., 0., 0., 0., 0., 0., 0., 0.,\n",
              "        0., 0., 0., 0.],\n",
              "       [0., 0., 0., 0., 0., 0., 0., 0., 0., 0., 0., 0., 0., 0., 0., 0.,\n",
              "        0., 0., 0., 0., 0., 0., 0., 0., 0., 0., 0., 0., 0., 1., 0., 0.,\n",
              "        0., 0., 0., 0., 0., 0., 0., 0., 0., 0., 0., 0., 0., 0., 0., 0.,\n",
              "        0., 0., 0., 0., 0., 0., 0., 0., 0., 0., 0., 0., 0., 0., 0., 0.,\n",
              "        0., 0., 0., 0., 0., 0., 0., 0., 0., 0., 0., 0., 0., 0., 0., 0.,\n",
              "        0., 0., 0., 0., 0., 0., 0., 0., 0., 0., 0., 0., 0., 0., 0., 0.,\n",
              "        0., 0., 0., 0.]], dtype=float32)"
            ]
          },
          "metadata": {
            "tags": []
          },
          "execution_count": 8
        }
      ]
    },
    {
      "cell_type": "code",
      "metadata": {
        "id": "WF6Jj3NyxdeN",
        "colab_type": "code",
        "colab": {}
      },
      "source": [
        "from sklearn.model_selection import train_test_split\n",
        "\n",
        "seed = 0\n",
        "X_train, X_test, Y_train, Y_test = train_test_split(X_test, Y_test, \n",
        "                                                    test_size=.2, random_state=seed)"
      ],
      "execution_count": null,
      "outputs": []
    },
    {
      "cell_type": "code",
      "metadata": {
        "id": "2COhGTZVxqva",
        "colab_type": "code",
        "colab": {}
      },
      "source": [
        "from tensorflow.keras.models import Sequential\n",
        "from tensorflow.keras.layers import Conv2D, MaxPooling2D, Flatten, Dense, Dropout\n",
        "from tensorflow.keras.layers import Activation\n",
        "import numpy as np\n",
        "\n",
        "np.random.seed(0)"
      ],
      "execution_count": null,
      "outputs": []
    },
    {
      "cell_type": "markdown",
      "metadata": {
        "id": "vVLdKUhnrPtM",
        "colab_type": "text"
      },
      "source": [
        "### 모형 구현"
      ]
    },
    {
      "cell_type": "code",
      "metadata": {
        "id": "BwA7GHCWrXNb",
        "colab_type": "code",
        "colab": {
          "base_uri": "https://localhost:8080/",
          "height": 845
        },
        "outputId": "727990cd-1409-4578-fb77-e894f3f36e83"
      },
      "source": [
        "model = Sequential()\n",
        "\n",
        "# Input Layer\n",
        "model.add(Conv2D(32, (3,3), padding='same', input_shape = X_train.shape[1:]))\n",
        "model.add(Activation('relu'))\n",
        "# MAXPOOL Layer 1\n",
        "model.add(MaxPooling2D(pool_size=(2, 2)))\n",
        "model.add(Activation('relu'))\n",
        "# CONV2D Layer 2\n",
        "model.add(Conv2D(64, (3,3), padding='same'))\n",
        "model.add(Activation('relu'))\n",
        "# MAXPOOL Layer 2\n",
        "model.add(MaxPooling2D(pool_size=(2, 2)))\n",
        "model.add(Activation('relu'))\n",
        "# Add a dropout of 10%\n",
        "model.add(Dropout(0.1))\n",
        "# CONV2D Layer 3\n",
        "model.add(Conv2D(128, (3,3), padding='same'))\n",
        "model.add(Activation('relu'))\n",
        "# MAXPOOL Layer 3\n",
        "model.add(MaxPooling2D(pool_size=(2,2)))\n",
        "# Add dropout of 25%\n",
        "model.add(Dropout(0.25))\n",
        "# flatten \n",
        "model.add(Flatten())\n",
        "# Fully Connected Layer 1\n",
        "model.add(Dense(512))\n",
        "model.add(Activation('relu'))\n",
        "# Adding a dropout of 50%\n",
        "model.add(Dropout(0.5))\n",
        "# Output Layer (Fully Connected Layer 2) \n",
        "model.add(Dense(100))\n",
        "model.add(Activation('softmax'))\n",
        "          \n",
        "model.summary()"
      ],
      "execution_count": null,
      "outputs": [
        {
          "output_type": "stream",
          "text": [
            "Model: \"sequential\"\n",
            "_________________________________________________________________\n",
            "Layer (type)                 Output Shape              Param #   \n",
            "=================================================================\n",
            "conv2d (Conv2D)              (None, 32, 32, 32)        896       \n",
            "_________________________________________________________________\n",
            "activation (Activation)      (None, 32, 32, 32)        0         \n",
            "_________________________________________________________________\n",
            "max_pooling2d (MaxPooling2D) (None, 16, 16, 32)        0         \n",
            "_________________________________________________________________\n",
            "activation_1 (Activation)    (None, 16, 16, 32)        0         \n",
            "_________________________________________________________________\n",
            "conv2d_1 (Conv2D)            (None, 16, 16, 64)        18496     \n",
            "_________________________________________________________________\n",
            "activation_2 (Activation)    (None, 16, 16, 64)        0         \n",
            "_________________________________________________________________\n",
            "max_pooling2d_1 (MaxPooling2 (None, 8, 8, 64)          0         \n",
            "_________________________________________________________________\n",
            "activation_3 (Activation)    (None, 8, 8, 64)          0         \n",
            "_________________________________________________________________\n",
            "dropout (Dropout)            (None, 8, 8, 64)          0         \n",
            "_________________________________________________________________\n",
            "conv2d_2 (Conv2D)            (None, 8, 8, 128)         73856     \n",
            "_________________________________________________________________\n",
            "activation_4 (Activation)    (None, 8, 8, 128)         0         \n",
            "_________________________________________________________________\n",
            "max_pooling2d_2 (MaxPooling2 (None, 4, 4, 128)         0         \n",
            "_________________________________________________________________\n",
            "dropout_1 (Dropout)          (None, 4, 4, 128)         0         \n",
            "_________________________________________________________________\n",
            "flatten (Flatten)            (None, 2048)              0         \n",
            "_________________________________________________________________\n",
            "dense (Dense)                (None, 512)               1049088   \n",
            "_________________________________________________________________\n",
            "activation_5 (Activation)    (None, 512)               0         \n",
            "_________________________________________________________________\n",
            "dropout_2 (Dropout)          (None, 512)               0         \n",
            "_________________________________________________________________\n",
            "dense_1 (Dense)              (None, 100)               51300     \n",
            "_________________________________________________________________\n",
            "activation_6 (Activation)    (None, 100)               0         \n",
            "=================================================================\n",
            "Total params: 1,193,636\n",
            "Trainable params: 1,193,636\n",
            "Non-trainable params: 0\n",
            "_________________________________________________________________\n"
          ],
          "name": "stdout"
        }
      ]
    },
    {
      "cell_type": "code",
      "metadata": {
        "id": "5QjePjlyrb67",
        "colab_type": "code",
        "colab": {}
      },
      "source": [
        "opt = tf.keras.optimizers.Adam(lr=0.0001)\n",
        "model.compile(loss='categorical_crossentropy', optimizer=opt, metrics=['accuracy'])"
      ],
      "execution_count": null,
      "outputs": []
    },
    {
      "cell_type": "code",
      "metadata": {
        "id": "K-z3Lsc3rf9C",
        "colab_type": "code",
        "colab": {
          "base_uri": "https://localhost:8080/",
          "height": 1000
        },
        "outputId": "71327f14-988e-4fbc-f42e-3da3f4cee1f9"
      },
      "source": [
        "history = model.fit(X_train, Y_train, epochs=100, batch_size=50,\n",
        "                    validation_data=(X_test, Y_test), verbose=1)"
      ],
      "execution_count": null,
      "outputs": [
        {
          "output_type": "stream",
          "text": [
            "Epoch 1/100\n",
            "160/160 [==============================] - 2s 15ms/step - loss: 4.6060 - accuracy: 0.0110 - val_loss: 4.5914 - val_accuracy: 0.0185\n",
            "Epoch 2/100\n",
            "160/160 [==============================] - 2s 13ms/step - loss: 4.5405 - accuracy: 0.0217 - val_loss: 4.4325 - val_accuracy: 0.0245\n",
            "Epoch 3/100\n",
            "160/160 [==============================] - 2s 13ms/step - loss: 4.3949 - accuracy: 0.0349 - val_loss: 4.2870 - val_accuracy: 0.0460\n",
            "Epoch 4/100\n",
            "160/160 [==============================] - 2s 13ms/step - loss: 4.2951 - accuracy: 0.0414 - val_loss: 4.1775 - val_accuracy: 0.0750\n",
            "Epoch 5/100\n",
            "160/160 [==============================] - 2s 13ms/step - loss: 4.2028 - accuracy: 0.0630 - val_loss: 4.0885 - val_accuracy: 0.0865\n",
            "Epoch 6/100\n",
            "160/160 [==============================] - 2s 13ms/step - loss: 4.1080 - accuracy: 0.0752 - val_loss: 3.9571 - val_accuracy: 0.1040\n",
            "Epoch 7/100\n",
            "160/160 [==============================] - 2s 13ms/step - loss: 4.0235 - accuracy: 0.0805 - val_loss: 3.8924 - val_accuracy: 0.1225\n",
            "Epoch 8/100\n",
            "160/160 [==============================] - 2s 13ms/step - loss: 3.9524 - accuracy: 0.0956 - val_loss: 3.8157 - val_accuracy: 0.1330\n",
            "Epoch 9/100\n",
            "160/160 [==============================] - 2s 13ms/step - loss: 3.8861 - accuracy: 0.1086 - val_loss: 3.7647 - val_accuracy: 0.1440\n",
            "Epoch 10/100\n",
            "160/160 [==============================] - 2s 13ms/step - loss: 3.8174 - accuracy: 0.1195 - val_loss: 3.6924 - val_accuracy: 0.1600\n",
            "Epoch 11/100\n",
            "160/160 [==============================] - 2s 13ms/step - loss: 3.7412 - accuracy: 0.1283 - val_loss: 3.6463 - val_accuracy: 0.1775\n",
            "Epoch 12/100\n",
            "160/160 [==============================] - 2s 13ms/step - loss: 3.7093 - accuracy: 0.1343 - val_loss: 3.6210 - val_accuracy: 0.1740\n",
            "Epoch 13/100\n",
            "160/160 [==============================] - 2s 13ms/step - loss: 3.6546 - accuracy: 0.1496 - val_loss: 3.5683 - val_accuracy: 0.1855\n",
            "Epoch 14/100\n",
            "160/160 [==============================] - 2s 13ms/step - loss: 3.5987 - accuracy: 0.1554 - val_loss: 3.5402 - val_accuracy: 0.1805\n",
            "Epoch 15/100\n",
            "160/160 [==============================] - 2s 13ms/step - loss: 3.5583 - accuracy: 0.1624 - val_loss: 3.5178 - val_accuracy: 0.1875\n",
            "Epoch 16/100\n",
            "160/160 [==============================] - 2s 13ms/step - loss: 3.4960 - accuracy: 0.1746 - val_loss: 3.4695 - val_accuracy: 0.1975\n",
            "Epoch 17/100\n",
            "160/160 [==============================] - 2s 13ms/step - loss: 3.4616 - accuracy: 0.1870 - val_loss: 3.4412 - val_accuracy: 0.2035\n",
            "Epoch 18/100\n",
            "160/160 [==============================] - 2s 13ms/step - loss: 3.4193 - accuracy: 0.1855 - val_loss: 3.4259 - val_accuracy: 0.2010\n",
            "Epoch 19/100\n",
            "160/160 [==============================] - 2s 13ms/step - loss: 3.3731 - accuracy: 0.1904 - val_loss: 3.4159 - val_accuracy: 0.2030\n",
            "Epoch 20/100\n",
            "160/160 [==============================] - 2s 13ms/step - loss: 3.3439 - accuracy: 0.2039 - val_loss: 3.3694 - val_accuracy: 0.2125\n",
            "Epoch 21/100\n",
            "160/160 [==============================] - 2s 13ms/step - loss: 3.3125 - accuracy: 0.2017 - val_loss: 3.3502 - val_accuracy: 0.2175\n",
            "Epoch 22/100\n",
            "160/160 [==============================] - 2s 13ms/step - loss: 3.2604 - accuracy: 0.2167 - val_loss: 3.3248 - val_accuracy: 0.2255\n",
            "Epoch 23/100\n",
            "160/160 [==============================] - 2s 13ms/step - loss: 3.2322 - accuracy: 0.2195 - val_loss: 3.3119 - val_accuracy: 0.2215\n",
            "Epoch 24/100\n",
            "160/160 [==============================] - 2s 13ms/step - loss: 3.1930 - accuracy: 0.2233 - val_loss: 3.2949 - val_accuracy: 0.2260\n",
            "Epoch 25/100\n",
            "160/160 [==============================] - 2s 13ms/step - loss: 3.1513 - accuracy: 0.2359 - val_loss: 3.2819 - val_accuracy: 0.2105\n",
            "Epoch 26/100\n",
            "160/160 [==============================] - 2s 13ms/step - loss: 3.1213 - accuracy: 0.2401 - val_loss: 3.2717 - val_accuracy: 0.2275\n",
            "Epoch 27/100\n",
            "160/160 [==============================] - 2s 13ms/step - loss: 3.0680 - accuracy: 0.2485 - val_loss: 3.2381 - val_accuracy: 0.2360\n",
            "Epoch 28/100\n",
            "160/160 [==============================] - 2s 13ms/step - loss: 3.0642 - accuracy: 0.2540 - val_loss: 3.2304 - val_accuracy: 0.2315\n",
            "Epoch 29/100\n",
            "160/160 [==============================] - 2s 13ms/step - loss: 3.0171 - accuracy: 0.2580 - val_loss: 3.2172 - val_accuracy: 0.2330\n",
            "Epoch 30/100\n",
            "160/160 [==============================] - 2s 13ms/step - loss: 2.9819 - accuracy: 0.2651 - val_loss: 3.1947 - val_accuracy: 0.2410\n",
            "Epoch 31/100\n",
            "160/160 [==============================] - 2s 13ms/step - loss: 2.9476 - accuracy: 0.2695 - val_loss: 3.1973 - val_accuracy: 0.2305\n",
            "Epoch 32/100\n",
            "160/160 [==============================] - 2s 13ms/step - loss: 2.9154 - accuracy: 0.2769 - val_loss: 3.1891 - val_accuracy: 0.2325\n",
            "Epoch 33/100\n",
            "160/160 [==============================] - 2s 13ms/step - loss: 2.8926 - accuracy: 0.2789 - val_loss: 3.1581 - val_accuracy: 0.2485\n",
            "Epoch 34/100\n",
            "160/160 [==============================] - 2s 13ms/step - loss: 2.8411 - accuracy: 0.2912 - val_loss: 3.1582 - val_accuracy: 0.2450\n",
            "Epoch 35/100\n",
            "160/160 [==============================] - 2s 13ms/step - loss: 2.8304 - accuracy: 0.2937 - val_loss: 3.1548 - val_accuracy: 0.2480\n",
            "Epoch 36/100\n",
            "160/160 [==============================] - 2s 13ms/step - loss: 2.7969 - accuracy: 0.2965 - val_loss: 3.1441 - val_accuracy: 0.2480\n",
            "Epoch 37/100\n",
            "160/160 [==============================] - 2s 13ms/step - loss: 2.7770 - accuracy: 0.3020 - val_loss: 3.1411 - val_accuracy: 0.2595\n",
            "Epoch 38/100\n",
            "160/160 [==============================] - 2s 13ms/step - loss: 2.7317 - accuracy: 0.3065 - val_loss: 3.1050 - val_accuracy: 0.2550\n",
            "Epoch 39/100\n",
            "160/160 [==============================] - 2s 13ms/step - loss: 2.6945 - accuracy: 0.3196 - val_loss: 3.0987 - val_accuracy: 0.2630\n",
            "Epoch 40/100\n",
            "160/160 [==============================] - 2s 13ms/step - loss: 2.6518 - accuracy: 0.3235 - val_loss: 3.0989 - val_accuracy: 0.2630\n",
            "Epoch 41/100\n",
            "160/160 [==============================] - 2s 13ms/step - loss: 2.6322 - accuracy: 0.3349 - val_loss: 3.0901 - val_accuracy: 0.2585\n",
            "Epoch 42/100\n",
            "160/160 [==============================] - 2s 13ms/step - loss: 2.5985 - accuracy: 0.3305 - val_loss: 3.0822 - val_accuracy: 0.2595\n",
            "Epoch 43/100\n",
            "160/160 [==============================] - 2s 13ms/step - loss: 2.5753 - accuracy: 0.3415 - val_loss: 3.0634 - val_accuracy: 0.2645\n",
            "Epoch 44/100\n",
            "160/160 [==============================] - 2s 13ms/step - loss: 2.5273 - accuracy: 0.3561 - val_loss: 3.0725 - val_accuracy: 0.2640\n",
            "Epoch 45/100\n",
            "160/160 [==============================] - 2s 13ms/step - loss: 2.4931 - accuracy: 0.3585 - val_loss: 3.0953 - val_accuracy: 0.2640\n",
            "Epoch 46/100\n",
            "160/160 [==============================] - 2s 13ms/step - loss: 2.4854 - accuracy: 0.3598 - val_loss: 3.0516 - val_accuracy: 0.2715\n",
            "Epoch 47/100\n",
            "160/160 [==============================] - 2s 13ms/step - loss: 2.4583 - accuracy: 0.3641 - val_loss: 3.0467 - val_accuracy: 0.2700\n",
            "Epoch 48/100\n",
            "160/160 [==============================] - 2s 13ms/step - loss: 2.4361 - accuracy: 0.3715 - val_loss: 3.0349 - val_accuracy: 0.2805\n",
            "Epoch 49/100\n",
            "160/160 [==============================] - 2s 13ms/step - loss: 2.3975 - accuracy: 0.3758 - val_loss: 3.0306 - val_accuracy: 0.2815\n",
            "Epoch 50/100\n",
            "160/160 [==============================] - 2s 13ms/step - loss: 2.3497 - accuracy: 0.3898 - val_loss: 3.0332 - val_accuracy: 0.2770\n",
            "Epoch 51/100\n",
            "160/160 [==============================] - 2s 13ms/step - loss: 2.3386 - accuracy: 0.3853 - val_loss: 3.0232 - val_accuracy: 0.2795\n",
            "Epoch 52/100\n",
            "160/160 [==============================] - 2s 13ms/step - loss: 2.3002 - accuracy: 0.3983 - val_loss: 3.0333 - val_accuracy: 0.2720\n",
            "Epoch 53/100\n",
            "160/160 [==============================] - 2s 13ms/step - loss: 2.2849 - accuracy: 0.4071 - val_loss: 3.0306 - val_accuracy: 0.2810\n",
            "Epoch 54/100\n",
            "160/160 [==============================] - 2s 13ms/step - loss: 2.2736 - accuracy: 0.3995 - val_loss: 3.0210 - val_accuracy: 0.2815\n",
            "Epoch 55/100\n",
            "160/160 [==============================] - 2s 13ms/step - loss: 2.2237 - accuracy: 0.4135 - val_loss: 3.0157 - val_accuracy: 0.2840\n",
            "Epoch 56/100\n",
            "160/160 [==============================] - 2s 13ms/step - loss: 2.2000 - accuracy: 0.4248 - val_loss: 3.0262 - val_accuracy: 0.2840\n",
            "Epoch 57/100\n",
            "160/160 [==============================] - 2s 13ms/step - loss: 2.1564 - accuracy: 0.4331 - val_loss: 3.0364 - val_accuracy: 0.2925\n",
            "Epoch 58/100\n",
            "160/160 [==============================] - 2s 13ms/step - loss: 2.1269 - accuracy: 0.4366 - val_loss: 3.0310 - val_accuracy: 0.2900\n",
            "Epoch 59/100\n",
            "160/160 [==============================] - 2s 13ms/step - loss: 2.1147 - accuracy: 0.4371 - val_loss: 3.0041 - val_accuracy: 0.2855\n",
            "Epoch 60/100\n",
            "160/160 [==============================] - 2s 13ms/step - loss: 2.0945 - accuracy: 0.4403 - val_loss: 3.0233 - val_accuracy: 0.2840\n",
            "Epoch 61/100\n",
            "160/160 [==============================] - 2s 13ms/step - loss: 2.0718 - accuracy: 0.4440 - val_loss: 3.0113 - val_accuracy: 0.2895\n",
            "Epoch 62/100\n",
            "160/160 [==============================] - 2s 13ms/step - loss: 2.0363 - accuracy: 0.4484 - val_loss: 3.0211 - val_accuracy: 0.2850\n",
            "Epoch 63/100\n",
            "160/160 [==============================] - 2s 13ms/step - loss: 2.0049 - accuracy: 0.4631 - val_loss: 3.0184 - val_accuracy: 0.2910\n",
            "Epoch 64/100\n",
            "160/160 [==============================] - 2s 13ms/step - loss: 1.9799 - accuracy: 0.4694 - val_loss: 3.0239 - val_accuracy: 0.2860\n",
            "Epoch 65/100\n",
            "160/160 [==============================] - 2s 13ms/step - loss: 1.9628 - accuracy: 0.4746 - val_loss: 3.0578 - val_accuracy: 0.2900\n",
            "Epoch 66/100\n",
            "160/160 [==============================] - 2s 13ms/step - loss: 1.9430 - accuracy: 0.4724 - val_loss: 3.0391 - val_accuracy: 0.2850\n",
            "Epoch 67/100\n",
            "160/160 [==============================] - 2s 13ms/step - loss: 1.8913 - accuracy: 0.4899 - val_loss: 3.0358 - val_accuracy: 0.2865\n",
            "Epoch 68/100\n",
            "160/160 [==============================] - 2s 13ms/step - loss: 1.8914 - accuracy: 0.4844 - val_loss: 3.0418 - val_accuracy: 0.2880\n",
            "Epoch 69/100\n",
            "160/160 [==============================] - 2s 13ms/step - loss: 1.8748 - accuracy: 0.4835 - val_loss: 3.0458 - val_accuracy: 0.2885\n",
            "Epoch 70/100\n",
            "160/160 [==============================] - 2s 12ms/step - loss: 1.8332 - accuracy: 0.5019 - val_loss: 3.0377 - val_accuracy: 0.2895\n",
            "Epoch 71/100\n",
            "160/160 [==============================] - 2s 12ms/step - loss: 1.8131 - accuracy: 0.4952 - val_loss: 3.0815 - val_accuracy: 0.2860\n",
            "Epoch 72/100\n",
            "160/160 [==============================] - 2s 12ms/step - loss: 1.7747 - accuracy: 0.5064 - val_loss: 3.0602 - val_accuracy: 0.2925\n",
            "Epoch 73/100\n",
            "160/160 [==============================] - 2s 12ms/step - loss: 1.7597 - accuracy: 0.5117 - val_loss: 3.0434 - val_accuracy: 0.2960\n",
            "Epoch 74/100\n",
            "160/160 [==============================] - 2s 12ms/step - loss: 1.7303 - accuracy: 0.5254 - val_loss: 3.0600 - val_accuracy: 0.2900\n",
            "Epoch 75/100\n",
            "160/160 [==============================] - 2s 12ms/step - loss: 1.7161 - accuracy: 0.5217 - val_loss: 3.0532 - val_accuracy: 0.2920\n",
            "Epoch 76/100\n",
            "160/160 [==============================] - 2s 13ms/step - loss: 1.6904 - accuracy: 0.5347 - val_loss: 3.0575 - val_accuracy: 0.2905\n",
            "Epoch 77/100\n",
            "160/160 [==============================] - 2s 12ms/step - loss: 1.6404 - accuracy: 0.5409 - val_loss: 3.0685 - val_accuracy: 0.2915\n",
            "Epoch 78/100\n",
            "160/160 [==============================] - 2s 13ms/step - loss: 1.6408 - accuracy: 0.5450 - val_loss: 3.0721 - val_accuracy: 0.2950\n",
            "Epoch 79/100\n",
            "160/160 [==============================] - 2s 13ms/step - loss: 1.5988 - accuracy: 0.5616 - val_loss: 3.0665 - val_accuracy: 0.2965\n",
            "Epoch 80/100\n",
            "160/160 [==============================] - 2s 12ms/step - loss: 1.5886 - accuracy: 0.5558 - val_loss: 3.0756 - val_accuracy: 0.2870\n",
            "Epoch 81/100\n",
            "160/160 [==============================] - 2s 12ms/step - loss: 1.5541 - accuracy: 0.5663 - val_loss: 3.0819 - val_accuracy: 0.2890\n",
            "Epoch 82/100\n",
            "160/160 [==============================] - 2s 12ms/step - loss: 1.5321 - accuracy: 0.5730 - val_loss: 3.0922 - val_accuracy: 0.2950\n",
            "Epoch 83/100\n",
            "160/160 [==============================] - 2s 12ms/step - loss: 1.5178 - accuracy: 0.5677 - val_loss: 3.0941 - val_accuracy: 0.2880\n",
            "Epoch 84/100\n",
            "160/160 [==============================] - 2s 13ms/step - loss: 1.4971 - accuracy: 0.5755 - val_loss: 3.1153 - val_accuracy: 0.2960\n",
            "Epoch 85/100\n",
            "160/160 [==============================] - 2s 13ms/step - loss: 1.4673 - accuracy: 0.5820 - val_loss: 3.1087 - val_accuracy: 0.2930\n",
            "Epoch 86/100\n",
            "160/160 [==============================] - 2s 13ms/step - loss: 1.4364 - accuracy: 0.5928 - val_loss: 3.1523 - val_accuracy: 0.2930\n",
            "Epoch 87/100\n",
            "160/160 [==============================] - 2s 13ms/step - loss: 1.4218 - accuracy: 0.5925 - val_loss: 3.1179 - val_accuracy: 0.2970\n",
            "Epoch 88/100\n",
            "160/160 [==============================] - 2s 13ms/step - loss: 1.4006 - accuracy: 0.5928 - val_loss: 3.1540 - val_accuracy: 0.2880\n",
            "Epoch 89/100\n",
            "160/160 [==============================] - 2s 12ms/step - loss: 1.3788 - accuracy: 0.6115 - val_loss: 3.1449 - val_accuracy: 0.2925\n",
            "Epoch 90/100\n",
            "160/160 [==============================] - 2s 13ms/step - loss: 1.3798 - accuracy: 0.6047 - val_loss: 3.1446 - val_accuracy: 0.2865\n",
            "Epoch 91/100\n",
            "160/160 [==============================] - 2s 12ms/step - loss: 1.3511 - accuracy: 0.6089 - val_loss: 3.1757 - val_accuracy: 0.2890\n",
            "Epoch 92/100\n",
            "160/160 [==============================] - 2s 12ms/step - loss: 1.3093 - accuracy: 0.6264 - val_loss: 3.1772 - val_accuracy: 0.2915\n",
            "Epoch 93/100\n",
            "160/160 [==============================] - 2s 12ms/step - loss: 1.3169 - accuracy: 0.6183 - val_loss: 3.1943 - val_accuracy: 0.2870\n",
            "Epoch 94/100\n",
            "160/160 [==============================] - 2s 12ms/step - loss: 1.2850 - accuracy: 0.6381 - val_loss: 3.2024 - val_accuracy: 0.2940\n",
            "Epoch 95/100\n",
            "160/160 [==============================] - 2s 12ms/step - loss: 1.2795 - accuracy: 0.6308 - val_loss: 3.2147 - val_accuracy: 0.2880\n",
            "Epoch 96/100\n",
            "160/160 [==============================] - 2s 13ms/step - loss: 1.2482 - accuracy: 0.6453 - val_loss: 3.2158 - val_accuracy: 0.2910\n",
            "Epoch 97/100\n",
            "160/160 [==============================] - 2s 13ms/step - loss: 1.2274 - accuracy: 0.6516 - val_loss: 3.2048 - val_accuracy: 0.2925\n",
            "Epoch 98/100\n",
            "160/160 [==============================] - 2s 13ms/step - loss: 1.2298 - accuracy: 0.6413 - val_loss: 3.2204 - val_accuracy: 0.2915\n",
            "Epoch 99/100\n",
            "160/160 [==============================] - 2s 13ms/step - loss: 1.2080 - accuracy: 0.6536 - val_loss: 3.2136 - val_accuracy: 0.2935\n",
            "Epoch 100/100\n",
            "160/160 [==============================] - 2s 13ms/step - loss: 1.1630 - accuracy: 0.6664 - val_loss: 3.2699 - val_accuracy: 0.2880\n"
          ],
          "name": "stdout"
        }
      ]
    },
    {
      "cell_type": "code",
      "metadata": {
        "id": "dMt4Dcl4rhdi",
        "colab_type": "code",
        "colab": {
          "base_uri": "https://localhost:8080/",
          "height": 71
        },
        "outputId": "4b146c32-bfc5-4080-a755-e80a6c7a1eb7"
      },
      "source": [
        "# 테스트 정확도 출력\n",
        "print(\"\\n Test Accuracy: %.4f\" % (model.evaluate(X_test, Y_test)[1]))"
      ],
      "execution_count": null,
      "outputs": [
        {
          "output_type": "stream",
          "text": [
            "63/63 [==============================] - 0s 5ms/step - loss: 3.2699 - accuracy: 0.2880\n",
            "\n",
            " Test Accuracy: 0.2880\n"
          ],
          "name": "stdout"
        }
      ]
    },
    {
      "cell_type": "markdown",
      "metadata": {
        "id": "BI5QkL7D1p8D",
        "colab_type": "text"
      },
      "source": [
        "결과 그래프로 확인하기"
      ]
    },
    {
      "cell_type": "code",
      "metadata": {
        "id": "1LllsJwswDdD",
        "colab_type": "code",
        "colab": {}
      },
      "source": [
        "# 테스트셋\n",
        "y_vloss = history.history['val_loss']\n",
        "y_vacc = history.history['val_accuracy']\n",
        "# 학습셋\n",
        "y_loss = history.history['loss']\n",
        "y_acc = history.history['accuracy']"
      ],
      "execution_count": null,
      "outputs": []
    },
    {
      "cell_type": "code",
      "metadata": {
        "id": "PJZrH0iowIZB",
        "colab_type": "code",
        "colab": {
          "base_uri": "https://localhost:8080/",
          "height": 497
        },
        "outputId": "9630b621-16dd-4c36-8c04-a3f29345f4ff"
      },
      "source": [
        "# 그래프로 표현\n",
        "x_len = np.arange(1, len(y_loss)+1)\n",
        "fig, ax0 = plt.subplots(figsize=(10,8))\n",
        "ax1 = ax0.twinx()\n",
        "ax0.plot(x_len, y_loss, c=\"blue\", label='Trainset_loss')\n",
        "ax0.plot(x_len, y_vloss, c=\"red\", label='Testset_loss')\n",
        "ax0.set_ylabel('loss')\n",
        "ax1.plot(x_len, y_acc, c=\"darkgreen\", label='Trainset_acc')\n",
        "ax1.plot(x_len, y_vacc, c=\"magenta\", label='Testset_acc')\n",
        "ax1.set_ylabel('accuracy')\n",
        "ax0.set_xlabel('epoch')\n",
        "ax0.legend(loc='upper center')\n",
        "ax1.legend(loc='lower center')\n",
        "plt.show()"
      ],
      "execution_count": null,
      "outputs": [
        {
          "output_type": "display_data",
          "data": {
            "image/png": "[encoded data removed]",
            "text/plain": [
              "<Figure size 720x576 with 2 Axes>"
            ]
          },
          "metadata": {
            "tags": [],
            "needs_background": "light"
          }
        }
      ]
    },
    {
      "cell_type": "code",
      "metadata": {
        "id": "2-sUQL7K5xlH",
        "colab_type": "code",
        "colab": {}
      },
      "source": [
        ""
      ],
      "execution_count": null,
      "outputs": []
    }
  ]
}