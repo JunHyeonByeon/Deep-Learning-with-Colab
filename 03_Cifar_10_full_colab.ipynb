{
  "nbformat": 4,
  "nbformat_minor": 0,
  "metadata": {
    "colab": {
      "name": "03.Cifar-10-full_colab.ipynb",
      "provenance": [],
      "collapsed_sections": [],
      "authorship_tag": "ABX9TyPcxeHlt3UKZa5nnVeYj+4q",
      "include_colab_link": true
    },
    "kernelspec": {
      "name": "python3",
      "display_name": "Python 3"
    },
    "accelerator": "GPU"
  },
  "cells": [
    {
      "cell_type": "markdown",
      "metadata": {
        "id": "view-in-github",
        "colab_type": "text"
      },
      "source": [
        "<a href=\"https://colab.research.google.com/github/JunHyeonByeon/Deep-Learning-with-Colab/blob/master/03_Cifar_10_full_colab.ipynb\" target=\"_parent\"><img src=\"https://colab.research.google.com/assets/colab-badge.svg\" alt=\"Open In Colab\"/></a>"
      ]
    },
    {
      "cell_type": "markdown",
      "metadata": {
        "id": "Uh-_8ri0V6v8",
        "colab_type": "text"
      },
      "source": [
        "Cifar-10"
      ]
    },
    {
      "cell_type": "code",
      "metadata": {
        "id": "9ew6hDCwV2y2",
        "colab_type": "code",
        "colab": {}
      },
      "source": [
        "import tensorflow as tf\n",
        "from tensorflow.keras.datasets import cifar10\n",
        "from tensorflow.keras.models import Sequential\n",
        "from tensorflow.keras.layers import Conv2D, MaxPooling2D, Flatten, Dense, Dropout\n",
        "from tensorflow.keras.layers import Activation, BatchNormalization\n",
        "from tensorflow.keras.regularizers import l2\n",
        "import numpy as np"
      ],
      "execution_count": null,
      "outputs": []
    },
    {
      "cell_type": "markdown",
      "metadata": {
        "id": "OqkxnbxgXJoM",
        "colab_type": "text"
      },
      "source": [
        "#### 자료형 변환 및 스케일링\n",
        "- X: 실수형으로 정규화\n",
        "- Y: 1-hot encoding\n",
        "    * airplane, automobile, bird, cat, deer, dog, frog, horse, ship, truck"
      ]
    },
    {
      "cell_type": "code",
      "metadata": {
        "id": "pr51FpnGWCkL",
        "colab_type": "code",
        "colab": {
          "base_uri": "https://localhost:8080/",
          "height": 125
        },
        "outputId": "214036b8-3d61-4efa-ee38-fe878a5d5b31"
      },
      "source": [
        "(X_train, y_train0), (X_test, y_test0) = cifar10.load_data()\n",
        "print(X_train.shape, X_train.dtype)\n",
        "print(y_train0.shape, y_train0.dtype)\n",
        "print(X_test.shape, X_test.dtype)\n",
        "print(y_test0.shape, y_test0.dtype)"
      ],
      "execution_count": null,
      "outputs": [
        {
          "output_type": "stream",
          "text": [
            "Downloading data from https://www.cs.toronto.edu/~kriz/cifar-10-python.tar.gz\n",
            "170500096/170498071 [==============================] - 2s 0us/step\n",
            "(50000, 32, 32, 3) uint8\n",
            "(50000, 1) uint8\n",
            "(10000, 32, 32, 3) uint8\n",
            "(10000, 1) uint8\n"
          ],
          "name": "stdout"
        }
      ]
    },
    {
      "cell_type": "code",
      "metadata": {
        "id": "FWCLr54VWGc6",
        "colab_type": "code",
        "colab": {
          "base_uri": "https://localhost:8080/",
          "height": 35
        },
        "outputId": "9e075951-3919-427d-9d9d-c36316b5891e"
      },
      "source": [
        "X_train = X_train.astype('float32')/255.0\n",
        "X_test = X_test.astype('float32')/255.0\n",
        "\n",
        "print(X_train.shape, X_train.dtype)"
      ],
      "execution_count": null,
      "outputs": [
        {
          "output_type": "stream",
          "text": [
            "(50000, 32, 32, 3) float32\n"
          ],
          "name": "stdout"
        }
      ]
    },
    {
      "cell_type": "code",
      "metadata": {
        "id": "BJgRIRMCW9ZT",
        "colab_type": "code",
        "colab": {
          "base_uri": "https://localhost:8080/",
          "height": 89
        },
        "outputId": "b11cc5af-2f4f-4988-a086-d6c5e988d8f7"
      },
      "source": [
        "Y_train = tf.keras.utils.to_categorical(y_train0, 10)\n",
        "Y_test = tf.keras.utils.to_categorical(y_test0, 10)\n",
        "Y_train[:4]"
      ],
      "execution_count": null,
      "outputs": [
        {
          "output_type": "execute_result",
          "data": {
            "text/plain": [
              "array([[0., 0., 0., 0., 0., 0., 1., 0., 0., 0.],\n",
              "       [0., 0., 0., 0., 0., 0., 0., 0., 0., 1.],\n",
              "       [0., 0., 0., 0., 0., 0., 0., 0., 0., 1.],\n",
              "       [0., 0., 0., 0., 1., 0., 0., 0., 0., 0.]], dtype=float32)"
            ]
          },
          "metadata": {
            "tags": []
          },
          "execution_count": 4
        }
      ]
    },
    {
      "cell_type": "code",
      "metadata": {
        "id": "Use8KZ7bbhaz",
        "colab_type": "code",
        "colab": {}
      },
      "source": [
        "from sklearn.model_selection import train_test_split\n",
        "\n",
        "seed = 0\n",
        "X_train, X_test, Y_train, Y_test = train_test_split(X_test, Y_test, \n",
        "                                                    test_size=.2, random_state=seed)"
      ],
      "execution_count": null,
      "outputs": []
    },
    {
      "cell_type": "markdown",
      "metadata": {
        "id": "_Bla6Y3kXLFr",
        "colab_type": "text"
      },
      "source": [
        "모형 구현"
      ]
    },
    {
      "cell_type": "code",
      "metadata": {
        "id": "c2GNDNAGW_F6",
        "colab_type": "code",
        "colab": {}
      },
      "source": [
        "np.random.seed(0)\n",
        "weight_decay = 1e-4"
      ],
      "execution_count": null,
      "outputs": []
    },
    {
      "cell_type": "code",
      "metadata": {
        "id": "3bEjs0KeXCAJ",
        "colab_type": "code",
        "colab": {
          "base_uri": "https://localhost:8080/",
          "height": 1000
        },
        "outputId": "5cc0fadf-a6d5-44c2-bbc7-b1c9ad392fa5"
      },
      "source": [
        "model = Sequential()\n",
        "\n",
        "model.add(Conv2D(32, (3,3), padding='same', kernel_regularizer=l2(weight_decay), \n",
        "                 input_shape=X_train.shape[1:]))\n",
        "model.add(Activation('elu'))\n",
        "model.add(BatchNormalization())\n",
        "model.add(Conv2D(32, (3,3), padding='same', kernel_regularizer=l2(weight_decay)))\n",
        "model.add(Activation('elu'))\n",
        "model.add(BatchNormalization())\n",
        "model.add(MaxPooling2D(pool_size=(2,2)))\n",
        "model.add(Dropout(0.2))\n",
        " \n",
        "model.add(Conv2D(64, (3,3), padding='same', kernel_regularizer=l2(weight_decay)))\n",
        "model.add(Activation('elu'))\n",
        "model.add(BatchNormalization())\n",
        "model.add(Conv2D(64, (3,3), padding='same', kernel_regularizer=l2(weight_decay)))\n",
        "model.add(Activation('elu'))\n",
        "model.add(BatchNormalization())\n",
        "model.add(MaxPooling2D(pool_size=(2,2)))\n",
        "model.add(Dropout(0.3))\n",
        " \n",
        "model.add(Conv2D(128, (3,3), padding='same', kernel_regularizer=l2(weight_decay)))\n",
        "model.add(Activation('elu'))\n",
        "model.add(BatchNormalization())\n",
        "model.add(Conv2D(128, (3,3), padding='same', kernel_regularizer=l2(weight_decay)))\n",
        "model.add(Activation('elu'))\n",
        "model.add(BatchNormalization())\n",
        "model.add(MaxPooling2D(pool_size=(2,2)))\n",
        "model.add(Dropout(0.4))\n",
        " \n",
        "model.add(Flatten())\n",
        "model.add(Dense(10, activation='softmax'))\n",
        "\n",
        "model.summary()"
      ],
      "execution_count": null,
      "outputs": [
        {
          "output_type": "stream",
          "text": [
            "Model: \"sequential\"\n",
            "_________________________________________________________________\n",
            "Layer (type)                 Output Shape              Param #   \n",
            "=================================================================\n",
            "conv2d (Conv2D)              (None, 32, 32, 32)        896       \n",
            "_________________________________________________________________\n",
            "activation (Activation)      (None, 32, 32, 32)        0         \n",
            "_________________________________________________________________\n",
            "batch_normalization (BatchNo (None, 32, 32, 32)        128       \n",
            "_________________________________________________________________\n",
            "conv2d_1 (Conv2D)            (None, 32, 32, 32)        9248      \n",
            "_________________________________________________________________\n",
            "activation_1 (Activation)    (None, 32, 32, 32)        0         \n",
            "_________________________________________________________________\n",
            "batch_normalization_1 (Batch (None, 32, 32, 32)        128       \n",
            "_________________________________________________________________\n",
            "max_pooling2d (MaxPooling2D) (None, 16, 16, 32)        0         \n",
            "_________________________________________________________________\n",
            "dropout (Dropout)            (None, 16, 16, 32)        0         \n",
            "_________________________________________________________________\n",
            "conv2d_2 (Conv2D)            (None, 16, 16, 64)        18496     \n",
            "_________________________________________________________________\n",
            "activation_2 (Activation)    (None, 16, 16, 64)        0         \n",
            "_________________________________________________________________\n",
            "batch_normalization_2 (Batch (None, 16, 16, 64)        256       \n",
            "_________________________________________________________________\n",
            "conv2d_3 (Conv2D)            (None, 16, 16, 64)        36928     \n",
            "_________________________________________________________________\n",
            "activation_3 (Activation)    (None, 16, 16, 64)        0         \n",
            "_________________________________________________________________\n",
            "batch_normalization_3 (Batch (None, 16, 16, 64)        256       \n",
            "_________________________________________________________________\n",
            "max_pooling2d_1 (MaxPooling2 (None, 8, 8, 64)          0         \n",
            "_________________________________________________________________\n",
            "dropout_1 (Dropout)          (None, 8, 8, 64)          0         \n",
            "_________________________________________________________________\n",
            "conv2d_4 (Conv2D)            (None, 8, 8, 128)         73856     \n",
            "_________________________________________________________________\n",
            "activation_4 (Activation)    (None, 8, 8, 128)         0         \n",
            "_________________________________________________________________\n",
            "batch_normalization_4 (Batch (None, 8, 8, 128)         512       \n",
            "_________________________________________________________________\n",
            "conv2d_5 (Conv2D)            (None, 8, 8, 128)         147584    \n",
            "_________________________________________________________________\n",
            "activation_5 (Activation)    (None, 8, 8, 128)         0         \n",
            "_________________________________________________________________\n",
            "batch_normalization_5 (Batch (None, 8, 8, 128)         512       \n",
            "_________________________________________________________________\n",
            "max_pooling2d_2 (MaxPooling2 (None, 4, 4, 128)         0         \n",
            "_________________________________________________________________\n",
            "dropout_2 (Dropout)          (None, 4, 4, 128)         0         \n",
            "_________________________________________________________________\n",
            "flatten (Flatten)            (None, 2048)              0         \n",
            "_________________________________________________________________\n",
            "dense (Dense)                (None, 10)                20490     \n",
            "=================================================================\n",
            "Total params: 309,290\n",
            "Trainable params: 308,394\n",
            "Non-trainable params: 896\n",
            "_________________________________________________________________\n"
          ],
          "name": "stdout"
        }
      ]
    },
    {
      "cell_type": "code",
      "metadata": {
        "id": "hMWdpYtoXMiq",
        "colab_type": "code",
        "colab": {}
      },
      "source": [
        "opt = tf.keras.optimizers.Adam(lr=0.0001)\n",
        "model.compile(loss='categorical_crossentropy', optimizer=opt, metrics=['accuracy'])"
      ],
      "execution_count": null,
      "outputs": []
    },
    {
      "cell_type": "code",
      "metadata": {
        "id": "mixJt_5AXSAq",
        "colab_type": "code",
        "colab": {
          "base_uri": "https://localhost:8080/",
          "height": 1000
        },
        "outputId": "d0d4abdc-4731-4d3f-8d3d-a55bc72b8135"
      },
      "source": [
        "history = model.fit(X_train, Y_train, epochs=30, batch_size=50,\n",
        "                    validation_data=(X_test, Y_test), verbose=1)   # 시간 관계상 epochs 30으로 설정함"
      ],
      "execution_count": null,
      "outputs": [
        {
          "output_type": "stream",
          "text": [
            "Epoch 1/30\n",
            "1000/1000 [==============================] - 22s 22ms/step - loss: 0.9338 - accuracy: 0.6858 - val_loss: 0.8401 - val_accuracy: 0.7219\n",
            "Epoch 2/30\n",
            "1000/1000 [==============================] - 22s 22ms/step - loss: 0.8838 - accuracy: 0.7053 - val_loss: 0.8303 - val_accuracy: 0.7273\n",
            "Epoch 3/30\n",
            "1000/1000 [==============================] - 21s 21ms/step - loss: 0.8411 - accuracy: 0.7176 - val_loss: 0.7638 - val_accuracy: 0.7497\n",
            "Epoch 4/30\n",
            "1000/1000 [==============================] - 21s 21ms/step - loss: 0.8004 - accuracy: 0.7336 - val_loss: 0.7488 - val_accuracy: 0.7536\n",
            "Epoch 5/30\n",
            "1000/1000 [==============================] - 21s 21ms/step - loss: 0.7719 - accuracy: 0.7421 - val_loss: 0.7789 - val_accuracy: 0.7473\n",
            "Epoch 6/30\n",
            "1000/1000 [==============================] - 21s 21ms/step - loss: 0.7446 - accuracy: 0.7520 - val_loss: 0.7230 - val_accuracy: 0.7641\n",
            "Epoch 7/30\n",
            "1000/1000 [==============================] - 21s 21ms/step - loss: 0.7158 - accuracy: 0.7612 - val_loss: 0.7024 - val_accuracy: 0.7683\n",
            "Epoch 8/30\n",
            "1000/1000 [==============================] - 21s 21ms/step - loss: 0.6896 - accuracy: 0.7711 - val_loss: 0.6905 - val_accuracy: 0.7755\n",
            "Epoch 9/30\n",
            "1000/1000 [==============================] - 22s 22ms/step - loss: 0.6661 - accuracy: 0.7781 - val_loss: 0.6659 - val_accuracy: 0.7814\n",
            "Epoch 10/30\n",
            "1000/1000 [==============================] - 22s 22ms/step - loss: 0.6444 - accuracy: 0.7898 - val_loss: 0.6600 - val_accuracy: 0.7878\n",
            "Epoch 11/30\n",
            "1000/1000 [==============================] - 22s 22ms/step - loss: 0.6262 - accuracy: 0.7952 - val_loss: 0.6508 - val_accuracy: 0.7893\n",
            "Epoch 12/30\n",
            "1000/1000 [==============================] - 22s 22ms/step - loss: 0.6097 - accuracy: 0.7994 - val_loss: 0.6436 - val_accuracy: 0.7937\n",
            "Epoch 13/30\n",
            "1000/1000 [==============================] - 22s 22ms/step - loss: 0.5917 - accuracy: 0.8049 - val_loss: 0.6361 - val_accuracy: 0.7952\n",
            "Epoch 14/30\n",
            "1000/1000 [==============================] - 22s 22ms/step - loss: 0.5768 - accuracy: 0.8102 - val_loss: 0.6125 - val_accuracy: 0.8057\n",
            "Epoch 15/30\n",
            "1000/1000 [==============================] - 22s 22ms/step - loss: 0.5588 - accuracy: 0.8180 - val_loss: 0.6067 - val_accuracy: 0.8070\n",
            "Epoch 16/30\n",
            "1000/1000 [==============================] - 22s 22ms/step - loss: 0.5496 - accuracy: 0.8219 - val_loss: 0.6088 - val_accuracy: 0.8060\n",
            "Epoch 17/30\n",
            "1000/1000 [==============================] - 21s 21ms/step - loss: 0.5353 - accuracy: 0.8250 - val_loss: 0.5833 - val_accuracy: 0.8177\n",
            "Epoch 18/30\n",
            "1000/1000 [==============================] - 21s 21ms/step - loss: 0.5198 - accuracy: 0.8296 - val_loss: 0.5797 - val_accuracy: 0.8170\n",
            "Epoch 19/30\n",
            "1000/1000 [==============================] - 21s 21ms/step - loss: 0.5069 - accuracy: 0.8365 - val_loss: 0.5792 - val_accuracy: 0.8194\n",
            "Epoch 20/30\n",
            "1000/1000 [==============================] - 22s 22ms/step - loss: 0.4942 - accuracy: 0.8420 - val_loss: 0.5773 - val_accuracy: 0.8208\n",
            "Epoch 21/30\n",
            "1000/1000 [==============================] - 21s 21ms/step - loss: 0.4878 - accuracy: 0.8439 - val_loss: 0.5819 - val_accuracy: 0.8219\n",
            "Epoch 22/30\n",
            "1000/1000 [==============================] - 22s 22ms/step - loss: 0.4733 - accuracy: 0.8471 - val_loss: 0.5631 - val_accuracy: 0.8258\n",
            "Epoch 23/30\n",
            "1000/1000 [==============================] - 22s 22ms/step - loss: 0.4665 - accuracy: 0.8505 - val_loss: 0.5541 - val_accuracy: 0.8286\n",
            "Epoch 24/30\n",
            "1000/1000 [==============================] - 22s 22ms/step - loss: 0.4522 - accuracy: 0.8553 - val_loss: 0.5639 - val_accuracy: 0.8249\n",
            "Epoch 25/30\n",
            "1000/1000 [==============================] - 22s 22ms/step - loss: 0.4440 - accuracy: 0.8583 - val_loss: 0.5570 - val_accuracy: 0.8260\n",
            "Epoch 26/30\n",
            "1000/1000 [==============================] - 22s 22ms/step - loss: 0.4336 - accuracy: 0.8620 - val_loss: 0.5613 - val_accuracy: 0.8336\n",
            "Epoch 27/30\n",
            "1000/1000 [==============================] - 21s 21ms/step - loss: 0.4269 - accuracy: 0.8627 - val_loss: 0.5628 - val_accuracy: 0.8288\n",
            "Epoch 28/30\n",
            "1000/1000 [==============================] - 21s 21ms/step - loss: 0.4139 - accuracy: 0.8677 - val_loss: 0.5630 - val_accuracy: 0.8314\n",
            "Epoch 29/30\n",
            "1000/1000 [==============================] - 21s 21ms/step - loss: 0.4079 - accuracy: 0.8691 - val_loss: 0.5609 - val_accuracy: 0.8292\n",
            "Epoch 30/30\n",
            "1000/1000 [==============================] - 22s 22ms/step - loss: 0.4013 - accuracy: 0.8706 - val_loss: 0.5549 - val_accuracy: 0.8328\n"
          ],
          "name": "stdout"
        }
      ]
    },
    {
      "cell_type": "code",
      "metadata": {
        "id": "YpQKAIDVXnkJ",
        "colab_type": "code",
        "colab": {
          "base_uri": "https://localhost:8080/",
          "height": 71
        },
        "outputId": "c54ae52f-ec14-4ea2-a5cb-687f67fe8aaf"
      },
      "source": [
        "# 테스트 정확도 출력\n",
        "print(\"\\n Test Accuracy: %.4f\" % (model.evaluate(X_test, Y_test)[1]))"
      ],
      "execution_count": null,
      "outputs": [
        {
          "output_type": "stream",
          "text": [
            "313/313 [==============================] - 3s 8ms/step - loss: 0.5549 - accuracy: 0.8328\n",
            "\n",
            " Test Accuracy: 0.8328\n"
          ],
          "name": "stdout"
        }
      ]
    },
    {
      "cell_type": "markdown",
      "metadata": {
        "id": "6cjkP7ZubLV6",
        "colab_type": "text"
      },
      "source": [
        "결과 그래프 확인하기"
      ]
    },
    {
      "cell_type": "code",
      "metadata": {
        "id": "ZQ3ZR23VbBKy",
        "colab_type": "code",
        "colab": {}
      },
      "source": [
        "# 테스트셋\n",
        "y_vloss = history.history['val_loss']\n",
        "y_vacc = history.history['val_accuracy']\n",
        "# 학습셋\n",
        "y_loss = history.history['loss']\n",
        "y_acc = history.history['accuracy']"
      ],
      "execution_count": null,
      "outputs": []
    },
    {
      "cell_type": "code",
      "metadata": {
        "id": "xIB1UhzKbNbP",
        "colab_type": "code",
        "colab": {
          "base_uri": "https://localhost:8080/",
          "height": 497
        },
        "outputId": "0bfbbd48-c9cd-4560-d1b2-5c52f552f73b"
      },
      "source": [
        "# 그래프로 표현\n",
        "import matplotlib.pyplot as plt\n",
        "%matplotlib inline\n",
        "\n",
        "x_len = np.arange(1, len(y_loss)+1)\n",
        "fig, ax0 = plt.subplots(figsize=(10,8))\n",
        "ax1 = ax0.twinx()\n",
        "ax0.plot(x_len, y_loss, c=\"blue\", label='Trainset_loss')\n",
        "ax0.plot(x_len, y_vloss, c=\"red\", label='Testset_loss')\n",
        "ax0.set_ylabel('loss')\n",
        "ax1.plot(x_len, y_acc, c=\"darkgreen\", label='Trainset_acc')\n",
        "ax1.plot(x_len, y_vacc, c=\"magenta\", label='Testset_acc')\n",
        "ax1.set_ylabel('accuracy')\n",
        "ax0.set_xlabel('epoch')\n",
        "ax0.legend(loc='upper center')\n",
        "ax1.legend(loc='lower center')\n",
        "plt.show()"
      ],
      "execution_count": null,
      "outputs": [
        {
          "output_type": "display_data",
          "data": {
            "image/png": "[encoded data removed]",
            "text/plain": [
              "<Figure size 720x576 with 2 Axes>"
            ]
          },
          "metadata": {
            "tags": [],
            "needs_background": "light"
          }
        }
      ]
    },
    {
      "cell_type": "code",
      "metadata": {
        "id": "-1Sd4qn7bqj4",
        "colab_type": "code",
        "colab": {}
      },
      "source": [
        ""
      ],
      "execution_count": null,
      "outputs": []
    }
  ]
}