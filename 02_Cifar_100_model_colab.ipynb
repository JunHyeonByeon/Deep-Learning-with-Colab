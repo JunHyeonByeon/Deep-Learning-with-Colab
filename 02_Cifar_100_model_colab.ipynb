{
  "nbformat": 4,
  "nbformat_minor": 0,
  "metadata": {
    "colab": {
      "name": "02.Cifar-100-model_colab.ipynb",
      "provenance": [],
      "collapsed_sections": [],
      "authorship_tag": "ABX9TyPD5ceBSZkYlK32Zl33oT99",
      "include_colab_link": true
    },
    "kernelspec": {
      "name": "python3",
      "display_name": "Python 3"
    },
    "accelerator": "GPU"
  },
  "cells": [
    {
      "cell_type": "markdown",
      "metadata": {
        "id": "view-in-github",
        "colab_type": "text"
      },
      "source": [
        "<a href=\"https://colab.research.google.com/github/JunHyeonByeon/Deep-Learning-with-Colab/blob/master/02_Cifar_100_model_colab.ipynb\" target=\"_parent\"><img src=\"https://colab.research.google.com/assets/colab-badge.svg\" alt=\"Open In Colab\"/></a>"
      ]
    },
    {
      "cell_type": "markdown",
      "metadata": {
        "id": "JQqSYtNfpqgc",
        "colab_type": "text"
      },
      "source": [
        "Cifar-100"
      ]
    },
    {
      "cell_type": "code",
      "metadata": {
        "id": "x-FJEChH-83W",
        "colab_type": "code",
        "colab": {
          "base_uri": "https://localhost:8080/",
          "height": 35
        },
        "outputId": "1808b450-40ea-4f54-cf5d-cf57aa314452"
      },
      "source": [
        "from os import path\n",
        "from google.colab import drive\n",
        "\n",
        "notebooks_dir_name = 'test'\n",
        "drive.mount('/content/gdrive')\n",
        "notebooks_base_dir = path.join('./gdrive/My Drive/', notebooks_dir_name)\n",
        "if not path.exists(notebooks_base_dir):\n",
        "    print('Check your google drive directory. See you file explorer')"
      ],
      "execution_count": null,
      "outputs": [
        {
          "output_type": "stream",
          "text": [
            "Drive already mounted at /content/gdrive; to attempt to forcibly remount, call drive.mount(\"/content/gdrive\", force_remount=True).\n"
          ],
          "name": "stdout"
        }
      ]
    },
    {
      "cell_type": "code",
      "metadata": {
        "id": "Oon5T3IWAAce",
        "colab_type": "code",
        "colab": {}
      },
      "source": [
        "with open(path.join(notebooks_base_dir, \"myfile.txt\"), \"w\") as f:\n",
        "    f.write(\"Google Colab is good!!!\")"
      ],
      "execution_count": null,
      "outputs": []
    },
    {
      "cell_type": "code",
      "metadata": {
        "id": "DAWhBH1nwxWD",
        "colab_type": "code",
        "colab": {
          "base_uri": "https://localhost:8080/",
          "height": 35
        },
        "outputId": "f2b8c851-eadf-4794-affa-66bea5282457"
      },
      "source": [
        "!mkdir model"
      ],
      "execution_count": null,
      "outputs": [
        {
          "output_type": "stream",
          "text": [
            "mkdir: cannot create directory ‘model’: File exists\n"
          ],
          "name": "stdout"
        }
      ]
    },
    {
      "cell_type": "code",
      "metadata": {
        "id": "RG2oC1M0wz6S",
        "colab_type": "code",
        "colab": {
          "base_uri": "https://localhost:8080/",
          "height": 89
        },
        "outputId": "834c6de8-1e78-48aa-a06a-0685c44f887d"
      },
      "source": [
        "!ls -l"
      ],
      "execution_count": null,
      "outputs": [
        {
          "output_type": "stream",
          "text": [
            "total 20\n",
            "drwx------ 4 root root  4096 Jul  7 06:39 gdrive\n",
            "drwxr-xr-x 2 root root 12288 Jul  7 06:47 model\n",
            "drwxr-xr-x 1 root root  4096 Jun 26 16:26 sample_data\n"
          ],
          "name": "stdout"
        }
      ]
    },
    {
      "cell_type": "code",
      "metadata": {
        "id": "nAdHqtRRpp01",
        "colab_type": "code",
        "colab": {
          "base_uri": "https://localhost:8080/",
          "height": 35
        },
        "outputId": "39bbb548-693d-4f72-e812-e217e4c11745"
      },
      "source": [
        "%tensorflow_version 2.x\n",
        "import tensorflow as tf\n",
        "device_name = tf.test.gpu_device_name()\n",
        "if device_name != '/device:GPU:0':\n",
        "  raise SystemError('GPU device not found')\n",
        "print('Found GPU at: {}'.format(device_name))"
      ],
      "execution_count": null,
      "outputs": [
        {
          "output_type": "stream",
          "text": [
            "Found GPU at: /device:GPU:0\n"
          ],
          "name": "stdout"
        }
      ]
    },
    {
      "cell_type": "code",
      "metadata": {
        "id": "ep5UH6Xpp8Lk",
        "colab_type": "code",
        "colab": {
          "base_uri": "https://localhost:8080/",
          "height": 35
        },
        "outputId": "ad57d05a-50df-4699-f854-080e5e7fccfb"
      },
      "source": [
        "from tensorflow import keras\n",
        "from keras.datasets import cifar100\n",
        "(X_train, y_train), (X_test, y_test) = cifar100.load_data(label_mode='fine')"
      ],
      "execution_count": null,
      "outputs": [
        {
          "output_type": "stream",
          "text": [
            "Using TensorFlow backend.\n"
          ],
          "name": "stderr"
        }
      ]
    },
    {
      "cell_type": "code",
      "metadata": {
        "id": "dKukx0lQqVr8",
        "colab_type": "code",
        "colab": {
          "base_uri": "https://localhost:8080/",
          "height": 35
        },
        "outputId": "e84efad0-6f0b-4b49-93e5-6137bc2da549"
      },
      "source": [
        "X_train.shape, X_test.shape"
      ],
      "execution_count": null,
      "outputs": [
        {
          "output_type": "execute_result",
          "data": {
            "text/plain": [
              "((50000, 32, 32, 3), (10000, 32, 32, 3))"
            ]
          },
          "metadata": {
            "tags": []
          },
          "execution_count": 7
        }
      ]
    },
    {
      "cell_type": "markdown",
      "metadata": {
        "id": "WtBdOczHqeW0",
        "colab_type": "text"
      },
      "source": [
        "데이터 확인"
      ]
    },
    {
      "cell_type": "code",
      "metadata": {
        "id": "-HQ3PaC8qfkF",
        "colab_type": "code",
        "colab": {}
      },
      "source": [
        "CIFAR100_LABELS = [\n",
        "    'apple', 'aquarium_fish', 'baby', 'bear', 'beaver', 'bed', 'bee', 'beetle', \n",
        "    'bicycle', 'bottle', 'bowl', 'boy', 'bridge', 'bus', 'butterfly', 'camel', \n",
        "    'can', 'castle', 'caterpillar', 'cattle', 'chair', 'chimpanzee', 'clock', \n",
        "    'cloud', 'cockroach', 'couch', 'crab', 'crocodile', 'cup', 'dinosaur', \n",
        "    'dolphin', 'elephant', 'flatfish', 'forest', 'fox', 'girl', 'hamster', \n",
        "    'house', 'kangaroo', 'keyboard', 'lamp', 'lawn_mower', 'leopard', 'lion',\n",
        "    'lizard', 'lobster', 'man', 'maple_tree', 'motorcycle', 'mountain', 'mouse',\n",
        "    'mushroom', 'oak_tree', 'orange', 'orchid', 'otter', 'palm_tree', 'pear',\n",
        "    'pickup_truck', 'pine_tree', 'plain', 'plate', 'poppy', 'porcupine',\n",
        "    'possum', 'rabbit', 'raccoon', 'ray', 'road', 'rocket', 'rose',\n",
        "    'sea', 'seal', 'shark', 'shrew', 'skunk', 'skyscraper', 'snail', 'snake',\n",
        "    'spider', 'squirrel', 'streetcar', 'sunflower', 'sweet_pepper', 'table',\n",
        "    'tank', 'telephone', 'television', 'tiger', 'tractor', 'train', 'trout',\n",
        "    'tulip', 'turtle', 'wardrobe', 'whale', 'willow_tree', 'wolf', 'woman',\n",
        "    'worm'\n",
        "]"
      ],
      "execution_count": null,
      "outputs": []
    },
    {
      "cell_type": "code",
      "metadata": {
        "id": "lsl-LXaEqiG7",
        "colab_type": "code",
        "colab": {
          "base_uri": "https://localhost:8080/",
          "height": 124
        },
        "outputId": "7acd7f4f-9288-4adf-fda3-c9c816214044"
      },
      "source": [
        "import matplotlib.pyplot as plt\n",
        "%matplotlib inline\n",
        "\n",
        "plt.subplot(141)\n",
        "plt.imshow(X_train[0], interpolation=\"bicubic\")\n",
        "plt.grid(False)\n",
        "plt.subplot(142)\n",
        "plt.imshow(X_train[4], interpolation=\"bicubic\")\n",
        "plt.grid(False)\n",
        "plt.subplot(143)\n",
        "plt.imshow(X_train[8], interpolation=\"bicubic\")\n",
        "plt.grid(False)\n",
        "plt.subplot(144)\n",
        "plt.imshow(X_train[12], interpolation=\"bicubic\")\n",
        "plt.grid(False)\n",
        "plt.show()"
      ],
      "execution_count": null,
      "outputs": [
        {
          "output_type": "display_data",
          "data": {
            "image/png": "[encoded data removed]",
            "text/plain": [
              "<Figure size 432x288 with 4 Axes>"
            ]
          },
          "metadata": {
            "tags": [],
            "needs_background": "light"
          }
        }
      ]
    },
    {
      "cell_type": "code",
      "metadata": {
        "id": "NKQ1DCUjqlaT",
        "colab_type": "code",
        "colab": {
          "base_uri": "https://localhost:8080/",
          "height": 35
        },
        "outputId": "216323d0-d0cb-4906-dc1b-daaa868f77f0"
      },
      "source": [
        "CIFAR100_LABELS[y_train[0][0]], CIFAR100_LABELS[y_train[4][0]], CIFAR100_LABELS[y_train[8][0]], CIFAR100_LABELS[y_train[12][0]]"
      ],
      "execution_count": null,
      "outputs": [
        {
          "output_type": "execute_result",
          "data": {
            "text/plain": [
              "('cattle', 'aquarium_fish', 'cloud', 'sunflower')"
            ]
          },
          "metadata": {
            "tags": []
          },
          "execution_count": 10
        }
      ]
    },
    {
      "cell_type": "markdown",
      "metadata": {
        "id": "4n3g5QHzq8PU",
        "colab_type": "text"
      },
      "source": [
        "#### 자료형 변환 및 스케일링\n",
        "- X: 실수형으로 정규화\n",
        "- Y: 1-hot encoding"
      ]
    },
    {
      "cell_type": "code",
      "metadata": {
        "id": "CYUuihGsqsbj",
        "colab_type": "code",
        "colab": {
          "base_uri": "https://localhost:8080/",
          "height": 35
        },
        "outputId": "2af7ca21-735b-45a8-a8d7-b3b88fa0160c"
      },
      "source": [
        "X_train = X_train.astype('float32')/255.0\n",
        "X_test = X_test.astype('float32')/255.0\n",
        "\n",
        "print(X_train.shape, X_train.dtype)"
      ],
      "execution_count": null,
      "outputs": [
        {
          "output_type": "stream",
          "text": [
            "(50000, 32, 32, 3) float32\n"
          ],
          "name": "stdout"
        }
      ]
    },
    {
      "cell_type": "code",
      "metadata": {
        "id": "7Fv0yv78q_7S",
        "colab_type": "code",
        "colab": {
          "base_uri": "https://localhost:8080/",
          "height": 269
        },
        "outputId": "16a9fd43-f553-4174-e70d-90ec4623ceb5"
      },
      "source": [
        "Y_train = tf.keras.utils.to_categorical(y_train, 100)\n",
        "Y_test = tf.keras.utils.to_categorical(y_test, 100)\n",
        "Y_train[:2]"
      ],
      "execution_count": null,
      "outputs": [
        {
          "output_type": "execute_result",
          "data": {
            "text/plain": [
              "array([[0., 0., 0., 0., 0., 0., 0., 0., 0., 0., 0., 0., 0., 0., 0., 0.,\n",
              "        0., 0., 0., 1., 0., 0., 0., 0., 0., 0., 0., 0., 0., 0., 0., 0.,\n",
              "        0., 0., 0., 0., 0., 0., 0., 0., 0., 0., 0., 0., 0., 0., 0., 0.,\n",
              "        0., 0., 0., 0., 0., 0., 0., 0., 0., 0., 0., 0., 0., 0., 0., 0.,\n",
              "        0., 0., 0., 0., 0., 0., 0., 0., 0., 0., 0., 0., 0., 0., 0., 0.,\n",
              "        0., 0., 0., 0., 0., 0., 0., 0., 0., 0., 0., 0., 0., 0., 0., 0.,\n",
              "        0., 0., 0., 0.],\n",
              "       [0., 0., 0., 0., 0., 0., 0., 0., 0., 0., 0., 0., 0., 0., 0., 0.,\n",
              "        0., 0., 0., 0., 0., 0., 0., 0., 0., 0., 0., 0., 0., 1., 0., 0.,\n",
              "        0., 0., 0., 0., 0., 0., 0., 0., 0., 0., 0., 0., 0., 0., 0., 0.,\n",
              "        0., 0., 0., 0., 0., 0., 0., 0., 0., 0., 0., 0., 0., 0., 0., 0.,\n",
              "        0., 0., 0., 0., 0., 0., 0., 0., 0., 0., 0., 0., 0., 0., 0., 0.,\n",
              "        0., 0., 0., 0., 0., 0., 0., 0., 0., 0., 0., 0., 0., 0., 0., 0.,\n",
              "        0., 0., 0., 0.]], dtype=float32)"
            ]
          },
          "metadata": {
            "tags": []
          },
          "execution_count": 12
        }
      ]
    },
    {
      "cell_type": "code",
      "metadata": {
        "id": "CZXQJW_2yVkU",
        "colab_type": "code",
        "colab": {}
      },
      "source": [
        "from sklearn.model_selection import train_test_split\n",
        "\n",
        "seed = 0\n",
        "X_train, X_test, Y_train, Y_test = train_test_split(X_test, Y_test, \n",
        "                                                    test_size=.2, random_state=seed)"
      ],
      "execution_count": null,
      "outputs": []
    },
    {
      "cell_type": "code",
      "metadata": {
        "id": "X1VoTF4CyX1i",
        "colab_type": "code",
        "colab": {}
      },
      "source": [
        "from keras.models import Sequential\n",
        "from keras.layers import Conv2D, MaxPooling2D, Flatten, Dense, Dropout\n",
        "from keras.layers import Activation\n",
        "import numpy as np\n",
        "\n",
        "np.random.seed(0)"
      ],
      "execution_count": null,
      "outputs": []
    },
    {
      "cell_type": "markdown",
      "metadata": {
        "id": "vVLdKUhnrPtM",
        "colab_type": "text"
      },
      "source": [
        "### 모형 구현"
      ]
    },
    {
      "cell_type": "code",
      "metadata": {
        "id": "BwA7GHCWrXNb",
        "colab_type": "code",
        "colab": {
          "base_uri": "https://localhost:8080/",
          "height": 845
        },
        "outputId": "d80b6dd1-6521-4938-e9b4-b93aff889de7"
      },
      "source": [
        "model = Sequential()\n",
        "\n",
        "# Input Layer\n",
        "model.add(Conv2D(32, (3,3), padding='same', input_shape = X_train.shape[1:]))\n",
        "model.add(Activation('relu'))\n",
        "# MAXPOOL Layer 1\n",
        "model.add(MaxPooling2D(pool_size=(2, 2)))\n",
        "model.add(Activation('relu'))\n",
        "# CONV2D Layer 2\n",
        "model.add(Conv2D(64, (3,3), padding='same'))\n",
        "model.add(Activation('relu'))\n",
        "# MAXPOOL Layer 2\n",
        "model.add(MaxPooling2D(pool_size=(2, 2)))\n",
        "model.add(Activation('relu'))\n",
        "# Add a dropout of 10%\n",
        "model.add(Dropout(0.1))\n",
        "# CONV2D Layer 3\n",
        "model.add(Conv2D(128, (3,3), padding='same'))\n",
        "model.add(Activation('relu'))\n",
        "# MAXPOOL Layer 3\n",
        "model.add(MaxPooling2D(pool_size=(2,2)))\n",
        "# Add dropout of 25%\n",
        "model.add(Dropout(0.25))\n",
        "# flatten \n",
        "model.add(Flatten())\n",
        "# Fully Connected Layer 1\n",
        "model.add(Dense(512))\n",
        "model.add(Activation('relu'))\n",
        "# Adding a dropout of 50%\n",
        "model.add(Dropout(0.5))\n",
        "# Output Layer (Fully Connected Layer 2) \n",
        "model.add(Dense(100))\n",
        "model.add(Activation('softmax'))\n",
        "          \n",
        "model.summary()"
      ],
      "execution_count": null,
      "outputs": [
        {
          "output_type": "stream",
          "text": [
            "Model: \"sequential_1\"\n",
            "_________________________________________________________________\n",
            "Layer (type)                 Output Shape              Param #   \n",
            "=================================================================\n",
            "conv2d_1 (Conv2D)            (None, 32, 32, 32)        896       \n",
            "_________________________________________________________________\n",
            "activation_1 (Activation)    (None, 32, 32, 32)        0         \n",
            "_________________________________________________________________\n",
            "max_pooling2d_1 (MaxPooling2 (None, 16, 16, 32)        0         \n",
            "_________________________________________________________________\n",
            "activation_2 (Activation)    (None, 16, 16, 32)        0         \n",
            "_________________________________________________________________\n",
            "conv2d_2 (Conv2D)            (None, 16, 16, 64)        18496     \n",
            "_________________________________________________________________\n",
            "activation_3 (Activation)    (None, 16, 16, 64)        0         \n",
            "_________________________________________________________________\n",
            "max_pooling2d_2 (MaxPooling2 (None, 8, 8, 64)          0         \n",
            "_________________________________________________________________\n",
            "activation_4 (Activation)    (None, 8, 8, 64)          0         \n",
            "_________________________________________________________________\n",
            "dropout_1 (Dropout)          (None, 8, 8, 64)          0         \n",
            "_________________________________________________________________\n",
            "conv2d_3 (Conv2D)            (None, 8, 8, 128)         73856     \n",
            "_________________________________________________________________\n",
            "activation_5 (Activation)    (None, 8, 8, 128)         0         \n",
            "_________________________________________________________________\n",
            "max_pooling2d_3 (MaxPooling2 (None, 4, 4, 128)         0         \n",
            "_________________________________________________________________\n",
            "dropout_2 (Dropout)          (None, 4, 4, 128)         0         \n",
            "_________________________________________________________________\n",
            "flatten_1 (Flatten)          (None, 2048)              0         \n",
            "_________________________________________________________________\n",
            "dense_1 (Dense)              (None, 512)               1049088   \n",
            "_________________________________________________________________\n",
            "activation_6 (Activation)    (None, 512)               0         \n",
            "_________________________________________________________________\n",
            "dropout_3 (Dropout)          (None, 512)               0         \n",
            "_________________________________________________________________\n",
            "dense_2 (Dense)              (None, 100)               51300     \n",
            "_________________________________________________________________\n",
            "activation_7 (Activation)    (None, 100)               0         \n",
            "=================================================================\n",
            "Total params: 1,193,636\n",
            "Trainable params: 1,193,636\n",
            "Non-trainable params: 0\n",
            "_________________________________________________________________\n"
          ],
          "name": "stdout"
        }
      ]
    },
    {
      "cell_type": "code",
      "metadata": {
        "id": "5QjePjlyrb67",
        "colab_type": "code",
        "colab": {}
      },
      "source": [
        "opt = tf.keras.optimizers.Adam(lr=0.0001)\n",
        "model.compile(loss='categorical_crossentropy', optimizer=opt, metrics=['accuracy'])"
      ],
      "execution_count": null,
      "outputs": []
    },
    {
      "cell_type": "code",
      "metadata": {
        "id": "P9A6IgxQzdFj",
        "colab_type": "code",
        "colab": {}
      },
      "source": [
        "## to save checkpoint to use later\n",
        "from keras.callbacks import ModelCheckpoint, EarlyStopping\n",
        "\n",
        "modelpath = \"./gdrive/My Drive/test/model/cifar-100-cnn-{epoch:02d}-{val_loss:.4f}.hdf5\"\n",
        "checkpointer = ModelCheckpoint(filepath=modelpath, monitor='val_loss', \n",
        "                               verbose=1, save_best_only=True)\n",
        "early_stopping_callback = EarlyStopping(monitor='val_loss', patience=20)"
      ],
      "execution_count": null,
      "outputs": []
    },
    {
      "cell_type": "code",
      "metadata": {
        "id": "K-z3Lsc3rf9C",
        "colab_type": "code",
        "colab": {
          "base_uri": "https://localhost:8080/",
          "height": 1000
        },
        "outputId": "ade0099d-a001-412a-9dc2-22fbf7cbbd6a"
      },
      "source": [
        "history = model.fit(X_train, Y_train, epochs=300, batch_size=50,\n",
        "                    validation_data=(X_test, Y_test), verbose=1,\n",
        "                    callbacks=[checkpointer, early_stopping_callback])"
      ],
      "execution_count": null,
      "outputs": [
        {
          "output_type": "stream",
          "text": [
            "Train on 8000 samples, validate on 2000 samples\n",
            "Epoch 1/300\n",
            "8000/8000 [==============================] - 3s 410us/step - loss: 4.6055 - accuracy: 0.0111 - val_loss: 4.5855 - val_accuracy: 0.0175\n",
            "\n",
            "Epoch 00001: val_loss improved from inf to 4.58547, saving model to ./gdrive/My Drive/test/model/cifar-100-cnn-01-4.5855.hdf5\n",
            "Epoch 2/300\n",
            " 750/8000 [=>............................] - ETA: 1s - loss: 4.5824 - accuracy: 0.0147"
          ],
          "name": "stdout"
        },
        {
          "output_type": "stream",
          "text": [
            "/usr/local/lib/python3.6/dist-packages/keras/engine/saving.py:165: UserWarning: TensorFlow optimizers do not make it possible to access optimizer attributes or optimizer state after instantiation. As a result, we cannot save the optimizer as part of the model save file.You will have to compile your model again after loading it. Prefer using a Keras optimizer instead (see keras.io/optimizers).\n",
            "  'TensorFlow optimizers do not '\n"
          ],
          "name": "stderr"
        },
        {
          "output_type": "stream",
          "text": [
            "8000/8000 [==============================] - 2s 268us/step - loss: 4.5194 - accuracy: 0.0235 - val_loss: 4.3911 - val_accuracy: 0.0470\n",
            "\n",
            "Epoch 00002: val_loss improved from 4.58547 to 4.39114, saving model to ./gdrive/My Drive/test/model/cifar-100-cnn-02-4.3911.hdf5\n",
            "Epoch 3/300\n",
            "8000/8000 [==============================] - 2s 261us/step - loss: 4.3837 - accuracy: 0.0376 - val_loss: 4.2716 - val_accuracy: 0.0540\n",
            "\n",
            "Epoch 00003: val_loss improved from 4.39114 to 4.27156, saving model to ./gdrive/My Drive/test/model/cifar-100-cnn-03-4.2716.hdf5\n",
            "Epoch 4/300\n",
            "8000/8000 [==============================] - 2s 261us/step - loss: 4.2802 - accuracy: 0.0444 - val_loss: 4.1441 - val_accuracy: 0.0820\n",
            "\n",
            "Epoch 00004: val_loss improved from 4.27156 to 4.14406, saving model to ./gdrive/My Drive/test/model/cifar-100-cnn-04-4.1441.hdf5\n",
            "Epoch 5/300\n",
            "8000/8000 [==============================] - 2s 262us/step - loss: 4.1739 - accuracy: 0.0611 - val_loss: 4.0644 - val_accuracy: 0.0920\n",
            "\n",
            "Epoch 00005: val_loss improved from 4.14406 to 4.06441, saving model to ./gdrive/My Drive/test/model/cifar-100-cnn-05-4.0644.hdf5\n",
            "Epoch 6/300\n",
            "8000/8000 [==============================] - 2s 266us/step - loss: 4.0911 - accuracy: 0.0741 - val_loss: 3.9584 - val_accuracy: 0.1180\n",
            "\n",
            "Epoch 00006: val_loss improved from 4.06441 to 3.95840, saving model to ./gdrive/My Drive/test/model/cifar-100-cnn-06-3.9584.hdf5\n",
            "Epoch 7/300\n",
            "8000/8000 [==============================] - 2s 256us/step - loss: 3.9991 - accuracy: 0.0890 - val_loss: 3.8867 - val_accuracy: 0.1230\n",
            "\n",
            "Epoch 00007: val_loss improved from 3.95840 to 3.88671, saving model to ./gdrive/My Drive/test/model/cifar-100-cnn-07-3.8867.hdf5\n",
            "Epoch 8/300\n",
            "8000/8000 [==============================] - 2s 264us/step - loss: 3.9230 - accuracy: 0.1007 - val_loss: 3.8071 - val_accuracy: 0.1350\n",
            "\n",
            "Epoch 00008: val_loss improved from 3.88671 to 3.80710, saving model to ./gdrive/My Drive/test/model/cifar-100-cnn-08-3.8071.hdf5\n",
            "Epoch 9/300\n",
            "8000/8000 [==============================] - 2s 263us/step - loss: 3.8608 - accuracy: 0.1155 - val_loss: 3.7486 - val_accuracy: 0.1530\n",
            "\n",
            "Epoch 00009: val_loss improved from 3.80710 to 3.74860, saving model to ./gdrive/My Drive/test/model/cifar-100-cnn-09-3.7486.hdf5\n",
            "Epoch 10/300\n",
            "8000/8000 [==============================] - 2s 262us/step - loss: 3.7915 - accuracy: 0.1227 - val_loss: 3.6851 - val_accuracy: 0.1670\n",
            "\n",
            "Epoch 00010: val_loss improved from 3.74860 to 3.68514, saving model to ./gdrive/My Drive/test/model/cifar-100-cnn-10-3.6851.hdf5\n",
            "Epoch 11/300\n",
            "8000/8000 [==============================] - 2s 266us/step - loss: 3.7372 - accuracy: 0.1310 - val_loss: 3.6505 - val_accuracy: 0.1645\n",
            "\n",
            "Epoch 00011: val_loss improved from 3.68514 to 3.65046, saving model to ./gdrive/My Drive/test/model/cifar-100-cnn-11-3.6505.hdf5\n",
            "Epoch 12/300\n",
            "8000/8000 [==============================] - 2s 263us/step - loss: 3.6833 - accuracy: 0.1430 - val_loss: 3.5873 - val_accuracy: 0.1670\n",
            "\n",
            "Epoch 00012: val_loss improved from 3.65046 to 3.58726, saving model to ./gdrive/My Drive/test/model/cifar-100-cnn-12-3.5873.hdf5\n",
            "Epoch 13/300\n",
            "8000/8000 [==============================] - 2s 265us/step - loss: 3.6292 - accuracy: 0.1521 - val_loss: 3.5548 - val_accuracy: 0.1795\n",
            "\n",
            "Epoch 00013: val_loss improved from 3.58726 to 3.55478, saving model to ./gdrive/My Drive/test/model/cifar-100-cnn-13-3.5548.hdf5\n",
            "Epoch 14/300\n",
            "8000/8000 [==============================] - 2s 261us/step - loss: 3.5806 - accuracy: 0.1611 - val_loss: 3.5343 - val_accuracy: 0.1850\n",
            "\n",
            "Epoch 00014: val_loss improved from 3.55478 to 3.53426, saving model to ./gdrive/My Drive/test/model/cifar-100-cnn-14-3.5343.hdf5\n",
            "Epoch 15/300\n",
            "8000/8000 [==============================] - 2s 253us/step - loss: 3.5345 - accuracy: 0.1611 - val_loss: 3.4970 - val_accuracy: 0.1850\n",
            "\n",
            "Epoch 00015: val_loss improved from 3.53426 to 3.49702, saving model to ./gdrive/My Drive/test/model/cifar-100-cnn-15-3.4970.hdf5\n",
            "Epoch 16/300\n",
            "8000/8000 [==============================] - 2s 252us/step - loss: 3.5004 - accuracy: 0.1699 - val_loss: 3.4709 - val_accuracy: 0.1895\n",
            "\n",
            "Epoch 00016: val_loss improved from 3.49702 to 3.47093, saving model to ./gdrive/My Drive/test/model/cifar-100-cnn-16-3.4709.hdf5\n",
            "Epoch 17/300\n",
            "8000/8000 [==============================] - 2s 264us/step - loss: 3.4375 - accuracy: 0.1824 - val_loss: 3.4387 - val_accuracy: 0.1925\n",
            "\n",
            "Epoch 00017: val_loss improved from 3.47093 to 3.43872, saving model to ./gdrive/My Drive/test/model/cifar-100-cnn-17-3.4387.hdf5\n",
            "Epoch 18/300\n",
            "8000/8000 [==============================] - 2s 267us/step - loss: 3.4186 - accuracy: 0.1875 - val_loss: 3.4134 - val_accuracy: 0.1975\n",
            "\n",
            "Epoch 00018: val_loss improved from 3.43872 to 3.41336, saving model to ./gdrive/My Drive/test/model/cifar-100-cnn-18-3.4134.hdf5\n",
            "Epoch 19/300\n",
            "8000/8000 [==============================] - 2s 266us/step - loss: 3.3701 - accuracy: 0.1943 - val_loss: 3.4015 - val_accuracy: 0.1990\n",
            "\n",
            "Epoch 00019: val_loss improved from 3.41336 to 3.40154, saving model to ./gdrive/My Drive/test/model/cifar-100-cnn-19-3.4015.hdf5\n",
            "Epoch 20/300\n",
            "8000/8000 [==============================] - 2s 266us/step - loss: 3.3273 - accuracy: 0.2010 - val_loss: 3.3833 - val_accuracy: 0.2060\n",
            "\n",
            "Epoch 00020: val_loss improved from 3.40154 to 3.38333, saving model to ./gdrive/My Drive/test/model/cifar-100-cnn-20-3.3833.hdf5\n",
            "Epoch 21/300\n",
            "8000/8000 [==============================] - 2s 264us/step - loss: 3.2851 - accuracy: 0.2059 - val_loss: 3.3505 - val_accuracy: 0.2030\n",
            "\n",
            "Epoch 00021: val_loss improved from 3.38333 to 3.35046, saving model to ./gdrive/My Drive/test/model/cifar-100-cnn-21-3.3505.hdf5\n",
            "Epoch 22/300\n",
            "8000/8000 [==============================] - 2s 272us/step - loss: 3.2529 - accuracy: 0.2196 - val_loss: 3.3320 - val_accuracy: 0.2130\n",
            "\n",
            "Epoch 00022: val_loss improved from 3.35046 to 3.33198, saving model to ./gdrive/My Drive/test/model/cifar-100-cnn-22-3.3320.hdf5\n",
            "Epoch 23/300\n",
            "8000/8000 [==============================] - 2s 267us/step - loss: 3.2187 - accuracy: 0.2198 - val_loss: 3.3073 - val_accuracy: 0.2195\n",
            "\n",
            "Epoch 00023: val_loss improved from 3.33198 to 3.30729, saving model to ./gdrive/My Drive/test/model/cifar-100-cnn-23-3.3073.hdf5\n",
            "Epoch 24/300\n",
            "8000/8000 [==============================] - 2s 268us/step - loss: 3.1836 - accuracy: 0.2271 - val_loss: 3.2881 - val_accuracy: 0.2230\n",
            "\n",
            "Epoch 00024: val_loss improved from 3.30729 to 3.28814, saving model to ./gdrive/My Drive/test/model/cifar-100-cnn-24-3.2881.hdf5\n",
            "Epoch 25/300\n",
            "8000/8000 [==============================] - 2s 268us/step - loss: 3.1587 - accuracy: 0.2339 - val_loss: 3.2701 - val_accuracy: 0.2150\n",
            "\n",
            "Epoch 00025: val_loss improved from 3.28814 to 3.27009, saving model to ./gdrive/My Drive/test/model/cifar-100-cnn-25-3.2701.hdf5\n",
            "Epoch 26/300\n",
            "8000/8000 [==============================] - 2s 268us/step - loss: 3.1029 - accuracy: 0.2432 - val_loss: 3.2623 - val_accuracy: 0.2205\n",
            "\n",
            "Epoch 00026: val_loss improved from 3.27009 to 3.26226, saving model to ./gdrive/My Drive/test/model/cifar-100-cnn-26-3.2623.hdf5\n",
            "Epoch 27/300\n",
            "8000/8000 [==============================] - 2s 268us/step - loss: 3.0638 - accuracy: 0.2511 - val_loss: 3.2380 - val_accuracy: 0.2265\n",
            "\n",
            "Epoch 00027: val_loss improved from 3.26226 to 3.23802, saving model to ./gdrive/My Drive/test/model/cifar-100-cnn-27-3.2380.hdf5\n",
            "Epoch 28/300\n",
            "8000/8000 [==============================] - 2s 265us/step - loss: 3.0303 - accuracy: 0.2639 - val_loss: 3.2334 - val_accuracy: 0.2245\n",
            "\n",
            "Epoch 00028: val_loss improved from 3.23802 to 3.23336, saving model to ./gdrive/My Drive/test/model/cifar-100-cnn-28-3.2334.hdf5\n",
            "Epoch 29/300\n",
            "8000/8000 [==============================] - 2s 263us/step - loss: 3.0082 - accuracy: 0.2621 - val_loss: 3.2212 - val_accuracy: 0.2350\n",
            "\n",
            "Epoch 00029: val_loss improved from 3.23336 to 3.22123, saving model to ./gdrive/My Drive/test/model/cifar-100-cnn-29-3.2212.hdf5\n",
            "Epoch 30/300\n",
            "8000/8000 [==============================] - 2s 264us/step - loss: 2.9624 - accuracy: 0.2675 - val_loss: 3.1957 - val_accuracy: 0.2375\n",
            "\n",
            "Epoch 00030: val_loss improved from 3.22123 to 3.19568, saving model to ./gdrive/My Drive/test/model/cifar-100-cnn-30-3.1957.hdf5\n",
            "Epoch 31/300\n",
            "8000/8000 [==============================] - 2s 271us/step - loss: 2.9603 - accuracy: 0.2656 - val_loss: 3.1919 - val_accuracy: 0.2335\n",
            "\n",
            "Epoch 00031: val_loss improved from 3.19568 to 3.19190, saving model to ./gdrive/My Drive/test/model/cifar-100-cnn-31-3.1919.hdf5\n",
            "Epoch 32/300\n",
            "8000/8000 [==============================] - 2s 263us/step - loss: 2.8941 - accuracy: 0.2853 - val_loss: 3.1855 - val_accuracy: 0.2370\n",
            "\n",
            "Epoch 00032: val_loss improved from 3.19190 to 3.18554, saving model to ./gdrive/My Drive/test/model/cifar-100-cnn-32-3.1855.hdf5\n",
            "Epoch 33/300\n",
            "8000/8000 [==============================] - 2s 261us/step - loss: 2.8602 - accuracy: 0.2840 - val_loss: 3.1735 - val_accuracy: 0.2370\n",
            "\n",
            "Epoch 00033: val_loss improved from 3.18554 to 3.17353, saving model to ./gdrive/My Drive/test/model/cifar-100-cnn-33-3.1735.hdf5\n",
            "Epoch 34/300\n",
            "8000/8000 [==============================] - 2s 265us/step - loss: 2.8348 - accuracy: 0.2901 - val_loss: 3.1522 - val_accuracy: 0.2470\n",
            "\n",
            "Epoch 00034: val_loss improved from 3.17353 to 3.15216, saving model to ./gdrive/My Drive/test/model/cifar-100-cnn-34-3.1522.hdf5\n",
            "Epoch 35/300\n",
            "8000/8000 [==============================] - 2s 265us/step - loss: 2.8037 - accuracy: 0.2916 - val_loss: 3.1416 - val_accuracy: 0.2505\n",
            "\n",
            "Epoch 00035: val_loss improved from 3.15216 to 3.14156, saving model to ./gdrive/My Drive/test/model/cifar-100-cnn-35-3.1416.hdf5\n",
            "Epoch 36/300\n",
            "8000/8000 [==============================] - 2s 261us/step - loss: 2.7642 - accuracy: 0.3099 - val_loss: 3.1372 - val_accuracy: 0.2425\n",
            "\n",
            "Epoch 00036: val_loss improved from 3.14156 to 3.13724, saving model to ./gdrive/My Drive/test/model/cifar-100-cnn-36-3.1372.hdf5\n",
            "Epoch 37/300\n",
            "8000/8000 [==============================] - 2s 264us/step - loss: 2.7523 - accuracy: 0.3052 - val_loss: 3.1227 - val_accuracy: 0.2505\n",
            "\n",
            "Epoch 00037: val_loss improved from 3.13724 to 3.12270, saving model to ./gdrive/My Drive/test/model/cifar-100-cnn-37-3.1227.hdf5\n",
            "Epoch 38/300\n",
            "8000/8000 [==============================] - 2s 267us/step - loss: 2.7068 - accuracy: 0.3113 - val_loss: 3.1179 - val_accuracy: 0.2480\n",
            "\n",
            "Epoch 00038: val_loss improved from 3.12270 to 3.11794, saving model to ./gdrive/My Drive/test/model/cifar-100-cnn-38-3.1179.hdf5\n",
            "Epoch 39/300\n",
            "8000/8000 [==============================] - 2s 267us/step - loss: 2.6920 - accuracy: 0.3231 - val_loss: 3.1093 - val_accuracy: 0.2515\n",
            "\n",
            "Epoch 00039: val_loss improved from 3.11794 to 3.10930, saving model to ./gdrive/My Drive/test/model/cifar-100-cnn-39-3.1093.hdf5\n",
            "Epoch 40/300\n",
            "8000/8000 [==============================] - 2s 269us/step - loss: 2.6363 - accuracy: 0.3332 - val_loss: 3.1138 - val_accuracy: 0.2530\n",
            "\n",
            "Epoch 00040: val_loss did not improve from 3.10930\n",
            "Epoch 41/300\n",
            "8000/8000 [==============================] - 3s 330us/step - loss: 2.6131 - accuracy: 0.3386 - val_loss: 3.0859 - val_accuracy: 0.2595\n",
            "\n",
            "Epoch 00041: val_loss improved from 3.10930 to 3.08586, saving model to ./gdrive/My Drive/test/model/cifar-100-cnn-41-3.0859.hdf5\n",
            "Epoch 42/300\n",
            "8000/8000 [==============================] - 2s 299us/step - loss: 2.5870 - accuracy: 0.3330 - val_loss: 3.0959 - val_accuracy: 0.2595\n",
            "\n",
            "Epoch 00042: val_loss did not improve from 3.08586\n",
            "Epoch 43/300\n",
            "8000/8000 [==============================] - 2s 290us/step - loss: 2.5481 - accuracy: 0.3506 - val_loss: 3.0716 - val_accuracy: 0.2730\n",
            "\n",
            "Epoch 00043: val_loss improved from 3.08586 to 3.07157, saving model to ./gdrive/My Drive/test/model/cifar-100-cnn-43-3.0716.hdf5\n",
            "Epoch 44/300\n",
            "8000/8000 [==============================] - 2s 280us/step - loss: 2.5303 - accuracy: 0.3501 - val_loss: 3.0681 - val_accuracy: 0.2725\n",
            "\n",
            "Epoch 00044: val_loss improved from 3.07157 to 3.06809, saving model to ./gdrive/My Drive/test/model/cifar-100-cnn-44-3.0681.hdf5\n",
            "Epoch 45/300\n",
            "8000/8000 [==============================] - 2s 285us/step - loss: 2.4852 - accuracy: 0.3599 - val_loss: 3.0674 - val_accuracy: 0.2680\n",
            "\n",
            "Epoch 00045: val_loss improved from 3.06809 to 3.06742, saving model to ./gdrive/My Drive/test/model/cifar-100-cnn-45-3.0674.hdf5\n",
            "Epoch 46/300\n",
            "8000/8000 [==============================] - 2s 281us/step - loss: 2.4753 - accuracy: 0.3571 - val_loss: 3.0580 - val_accuracy: 0.2625\n",
            "\n",
            "Epoch 00046: val_loss improved from 3.06742 to 3.05803, saving model to ./gdrive/My Drive/test/model/cifar-100-cnn-46-3.0580.hdf5\n",
            "Epoch 47/300\n",
            "8000/8000 [==============================] - 2s 283us/step - loss: 2.4345 - accuracy: 0.3721 - val_loss: 3.0534 - val_accuracy: 0.2670\n",
            "\n",
            "Epoch 00047: val_loss improved from 3.05803 to 3.05336, saving model to ./gdrive/My Drive/test/model/cifar-100-cnn-47-3.0534.hdf5\n",
            "Epoch 48/300\n",
            "8000/8000 [==============================] - 2s 275us/step - loss: 2.4003 - accuracy: 0.3823 - val_loss: 3.0723 - val_accuracy: 0.2680\n",
            "\n",
            "Epoch 00048: val_loss did not improve from 3.05336\n",
            "Epoch 49/300\n",
            "8000/8000 [==============================] - 2s 283us/step - loss: 2.3651 - accuracy: 0.3854 - val_loss: 3.0497 - val_accuracy: 0.2685\n",
            "\n",
            "Epoch 00049: val_loss improved from 3.05336 to 3.04971, saving model to ./gdrive/My Drive/test/model/cifar-100-cnn-49-3.0497.hdf5\n",
            "Epoch 50/300\n",
            "8000/8000 [==============================] - 2s 283us/step - loss: 2.3538 - accuracy: 0.3945 - val_loss: 3.0419 - val_accuracy: 0.2785\n",
            "\n",
            "Epoch 00050: val_loss improved from 3.04971 to 3.04192, saving model to ./gdrive/My Drive/test/model/cifar-100-cnn-50-3.0419.hdf5\n",
            "Epoch 51/300\n",
            "8000/8000 [==============================] - 2s 284us/step - loss: 2.3239 - accuracy: 0.3943 - val_loss: 3.0300 - val_accuracy: 0.2720\n",
            "\n",
            "Epoch 00051: val_loss improved from 3.04192 to 3.03003, saving model to ./gdrive/My Drive/test/model/cifar-100-cnn-51-3.0300.hdf5\n",
            "Epoch 52/300\n",
            "8000/8000 [==============================] - 2s 281us/step - loss: 2.2868 - accuracy: 0.4098 - val_loss: 3.0348 - val_accuracy: 0.2775\n",
            "\n",
            "Epoch 00052: val_loss did not improve from 3.03003\n",
            "Epoch 53/300\n",
            "8000/8000 [==============================] - 2s 284us/step - loss: 2.2476 - accuracy: 0.4085 - val_loss: 3.0391 - val_accuracy: 0.2755\n",
            "\n",
            "Epoch 00053: val_loss did not improve from 3.03003\n",
            "Epoch 54/300\n",
            "8000/8000 [==============================] - 2s 283us/step - loss: 2.2124 - accuracy: 0.4189 - val_loss: 3.0313 - val_accuracy: 0.2765\n",
            "\n",
            "Epoch 00054: val_loss did not improve from 3.03003\n",
            "Epoch 55/300\n",
            "8000/8000 [==============================] - 2s 281us/step - loss: 2.2067 - accuracy: 0.4180 - val_loss: 3.0431 - val_accuracy: 0.2810\n",
            "\n",
            "Epoch 00055: val_loss did not improve from 3.03003\n",
            "Epoch 56/300\n",
            "8000/8000 [==============================] - 2s 283us/step - loss: 2.1799 - accuracy: 0.4232 - val_loss: 3.0475 - val_accuracy: 0.2845\n",
            "\n",
            "Epoch 00056: val_loss did not improve from 3.03003\n",
            "Epoch 57/300\n",
            "8000/8000 [==============================] - 2s 283us/step - loss: 2.1371 - accuracy: 0.4333 - val_loss: 3.0326 - val_accuracy: 0.2795\n",
            "\n",
            "Epoch 00057: val_loss did not improve from 3.03003\n",
            "Epoch 58/300\n",
            "8000/8000 [==============================] - 2s 284us/step - loss: 2.1065 - accuracy: 0.4433 - val_loss: 3.0497 - val_accuracy: 0.2785\n",
            "\n",
            "Epoch 00058: val_loss did not improve from 3.03003\n",
            "Epoch 59/300\n",
            "8000/8000 [==============================] - 2s 279us/step - loss: 2.0903 - accuracy: 0.4353 - val_loss: 3.0303 - val_accuracy: 0.2760\n",
            "\n",
            "Epoch 00059: val_loss did not improve from 3.03003\n",
            "Epoch 60/300\n",
            "8000/8000 [==============================] - 2s 281us/step - loss: 2.0471 - accuracy: 0.4534 - val_loss: 3.0291 - val_accuracy: 0.2845\n",
            "\n",
            "Epoch 00060: val_loss improved from 3.03003 to 3.02908, saving model to ./gdrive/My Drive/test/model/cifar-100-cnn-60-3.0291.hdf5\n",
            "Epoch 61/300\n",
            "8000/8000 [==============================] - 2s 284us/step - loss: 2.0277 - accuracy: 0.4602 - val_loss: 3.0460 - val_accuracy: 0.2845\n",
            "\n",
            "Epoch 00061: val_loss did not improve from 3.02908\n",
            "Epoch 62/300\n",
            "8000/8000 [==============================] - 2s 279us/step - loss: 1.9969 - accuracy: 0.4534 - val_loss: 3.0324 - val_accuracy: 0.2890\n",
            "\n",
            "Epoch 00062: val_loss did not improve from 3.02908\n",
            "Epoch 63/300\n",
            "8000/8000 [==============================] - 2s 282us/step - loss: 1.9708 - accuracy: 0.4729 - val_loss: 3.0468 - val_accuracy: 0.2870\n",
            "\n",
            "Epoch 00063: val_loss did not improve from 3.02908\n",
            "Epoch 64/300\n",
            "8000/8000 [==============================] - 2s 278us/step - loss: 1.9548 - accuracy: 0.4754 - val_loss: 3.0211 - val_accuracy: 0.2875\n",
            "\n",
            "Epoch 00064: val_loss improved from 3.02908 to 3.02115, saving model to ./gdrive/My Drive/test/model/cifar-100-cnn-64-3.0211.hdf5\n",
            "Epoch 65/300\n",
            "8000/8000 [==============================] - 2s 280us/step - loss: 1.9276 - accuracy: 0.4786 - val_loss: 3.0612 - val_accuracy: 0.2845\n",
            "\n",
            "Epoch 00065: val_loss did not improve from 3.02115\n",
            "Epoch 66/300\n",
            "8000/8000 [==============================] - 2s 279us/step - loss: 1.8949 - accuracy: 0.4840 - val_loss: 3.0521 - val_accuracy: 0.2885\n",
            "\n",
            "Epoch 00066: val_loss did not improve from 3.02115\n",
            "Epoch 67/300\n",
            "8000/8000 [==============================] - 2s 279us/step - loss: 1.8849 - accuracy: 0.4873 - val_loss: 3.0558 - val_accuracy: 0.2945\n",
            "\n",
            "Epoch 00067: val_loss did not improve from 3.02115\n",
            "Epoch 68/300\n",
            "8000/8000 [==============================] - 2s 278us/step - loss: 1.8312 - accuracy: 0.5041 - val_loss: 3.0621 - val_accuracy: 0.2935\n",
            "\n",
            "Epoch 00068: val_loss did not improve from 3.02115\n",
            "Epoch 69/300\n",
            "8000/8000 [==============================] - 2s 283us/step - loss: 1.8181 - accuracy: 0.5046 - val_loss: 3.0505 - val_accuracy: 0.2835\n",
            "\n",
            "Epoch 00069: val_loss did not improve from 3.02115\n",
            "Epoch 70/300\n",
            "8000/8000 [==============================] - 2s 283us/step - loss: 1.7793 - accuracy: 0.5113 - val_loss: 3.0699 - val_accuracy: 0.2895\n",
            "\n",
            "Epoch 00070: val_loss did not improve from 3.02115\n",
            "Epoch 71/300\n",
            "8000/8000 [==============================] - 2s 282us/step - loss: 1.7457 - accuracy: 0.5207 - val_loss: 3.0879 - val_accuracy: 0.2885\n",
            "\n",
            "Epoch 00071: val_loss did not improve from 3.02115\n",
            "Epoch 72/300\n",
            "8000/8000 [==============================] - 2s 283us/step - loss: 1.7162 - accuracy: 0.5261 - val_loss: 3.0738 - val_accuracy: 0.2900\n",
            "\n",
            "Epoch 00072: val_loss did not improve from 3.02115\n",
            "Epoch 73/300\n",
            "8000/8000 [==============================] - 2s 281us/step - loss: 1.7378 - accuracy: 0.5214 - val_loss: 3.0705 - val_accuracy: 0.2905\n",
            "\n",
            "Epoch 00073: val_loss did not improve from 3.02115\n",
            "Epoch 74/300\n",
            "8000/8000 [==============================] - 2s 285us/step - loss: 1.6833 - accuracy: 0.5282 - val_loss: 3.0764 - val_accuracy: 0.2915\n",
            "\n",
            "Epoch 00074: val_loss did not improve from 3.02115\n",
            "Epoch 75/300\n",
            "8000/8000 [==============================] - 2s 279us/step - loss: 1.6902 - accuracy: 0.5380 - val_loss: 3.0810 - val_accuracy: 0.2880\n",
            "\n",
            "Epoch 00075: val_loss did not improve from 3.02115\n",
            "Epoch 76/300\n",
            "8000/8000 [==============================] - 2s 284us/step - loss: 1.6546 - accuracy: 0.5393 - val_loss: 3.0853 - val_accuracy: 0.2960\n",
            "\n",
            "Epoch 00076: val_loss did not improve from 3.02115\n",
            "Epoch 77/300\n",
            "8000/8000 [==============================] - 2s 283us/step - loss: 1.6365 - accuracy: 0.5408 - val_loss: 3.0987 - val_accuracy: 0.2860\n",
            "\n",
            "Epoch 00077: val_loss did not improve from 3.02115\n",
            "Epoch 78/300\n",
            "8000/8000 [==============================] - 2s 279us/step - loss: 1.6098 - accuracy: 0.5520 - val_loss: 3.0736 - val_accuracy: 0.2915\n",
            "\n",
            "Epoch 00078: val_loss did not improve from 3.02115\n",
            "Epoch 79/300\n",
            "8000/8000 [==============================] - 2s 284us/step - loss: 1.5571 - accuracy: 0.5627 - val_loss: 3.1263 - val_accuracy: 0.2775\n",
            "\n",
            "Epoch 00079: val_loss did not improve from 3.02115\n",
            "Epoch 80/300\n",
            "8000/8000 [==============================] - 2s 282us/step - loss: 1.5598 - accuracy: 0.5649 - val_loss: 3.1153 - val_accuracy: 0.2915\n",
            "\n",
            "Epoch 00080: val_loss did not improve from 3.02115\n",
            "Epoch 81/300\n",
            "8000/8000 [==============================] - 2s 279us/step - loss: 1.5166 - accuracy: 0.5713 - val_loss: 3.1116 - val_accuracy: 0.2975\n",
            "\n",
            "Epoch 00081: val_loss did not improve from 3.02115\n",
            "Epoch 82/300\n",
            "8000/8000 [==============================] - 2s 278us/step - loss: 1.4924 - accuracy: 0.5774 - val_loss: 3.1198 - val_accuracy: 0.2970\n",
            "\n",
            "Epoch 00082: val_loss did not improve from 3.02115\n",
            "Epoch 83/300\n",
            "8000/8000 [==============================] - 2s 290us/step - loss: 1.4913 - accuracy: 0.5790 - val_loss: 3.1294 - val_accuracy: 0.2915\n",
            "\n",
            "Epoch 00083: val_loss did not improve from 3.02115\n",
            "Epoch 84/300\n",
            "8000/8000 [==============================] - 2s 309us/step - loss: 1.4670 - accuracy: 0.5847 - val_loss: 3.1354 - val_accuracy: 0.2950\n",
            "\n",
            "Epoch 00084: val_loss did not improve from 3.02115\n"
          ],
          "name": "stdout"
        }
      ]
    },
    {
      "cell_type": "code",
      "metadata": {
        "id": "-ngQz-bI7jCQ",
        "colab_type": "code",
        "colab": {
          "base_uri": "https://localhost:8080/",
          "height": 53
        },
        "outputId": "d67821ec-0602-471e-be27-d772a3285c4d"
      },
      "source": [
        "from keras.models import load_model\n",
        "del model\n",
        "model = load_model('./gdrive/My Drive/test/model/cifar-100-cnn-64-3.0211.hdf5')"
      ],
      "execution_count": null,
      "outputs": [
        {
          "output_type": "stream",
          "text": [
            "/usr/local/lib/python3.6/dist-packages/keras/engine/saving.py:341: UserWarning: No training configuration found in save file: the model was *not* compiled. Compile it manually.\n",
            "  warnings.warn('No training configuration found in save file: '\n"
          ],
          "name": "stderr"
        }
      ]
    },
    {
      "cell_type": "code",
      "metadata": {
        "id": "j_WfWRmSI85j",
        "colab_type": "code",
        "colab": {}
      },
      "source": [
        "model.compile(loss='categorical_crossentropy', \n",
        "              optimizer=opt, metrics=['accuracy'])"
      ],
      "execution_count": null,
      "outputs": []
    },
    {
      "cell_type": "code",
      "metadata": {
        "id": "dMt4Dcl4rhdi",
        "colab_type": "code",
        "colab": {
          "base_uri": "https://localhost:8080/",
          "height": 71
        },
        "outputId": "bdb8bacb-7110-467c-a27b-0d4acafb97d0"
      },
      "source": [
        "# 테스트 정확도 출력\n",
        "print(\"\\n Test Accuracy: %.4f\" % (model.evaluate(X_test, Y_test)[1]))"
      ],
      "execution_count": null,
      "outputs": [
        {
          "output_type": "stream",
          "text": [
            "2000/2000 [==============================] - 0s 164us/step\n",
            "\n",
            " Test Accuracy: 0.2875\n"
          ],
          "name": "stdout"
        }
      ]
    },
    {
      "cell_type": "code",
      "metadata": {
        "id": "1LllsJwswDdD",
        "colab_type": "code",
        "colab": {}
      },
      "source": [
        "# 테스트셋\n",
        "y_vloss = history.history['val_loss']\n",
        "y_vacc = history.history['val_accuracy']\n",
        "# 학습셋\n",
        "y_loss = history.history['loss']\n",
        "y_acc = history.history['accuracy']"
      ],
      "execution_count": null,
      "outputs": []
    },
    {
      "cell_type": "code",
      "metadata": {
        "id": "PJZrH0iowIZB",
        "colab_type": "code",
        "colab": {
          "base_uri": "https://localhost:8080/",
          "height": 497
        },
        "outputId": "d06f4e47-d418-43cc-8fda-b78ec2cd2944"
      },
      "source": [
        "# 그래프로 표현\n",
        "x_len = np.arange(1, len(y_loss)+1)\n",
        "fig, ax0 = plt.subplots(figsize=(10,8))\n",
        "ax1 = ax0.twinx()\n",
        "ax0.plot(x_len, y_loss, c=\"blue\", label='Trainset_loss')\n",
        "ax0.plot(x_len, y_vloss, c=\"red\", label='Testset_loss')\n",
        "ax0.set_ylabel('loss')\n",
        "ax1.plot(x_len, y_acc, c=\"darkgreen\", label='Trainset_acc')\n",
        "ax1.plot(x_len, y_vacc, c=\"magenta\", label='Testset_acc')\n",
        "ax1.set_ylabel('accuracy')\n",
        "ax0.set_xlabel('epoch')\n",
        "ax0.legend(loc='upper center')\n",
        "ax1.legend(loc='lower center')\n",
        "plt.show()"
      ],
      "execution_count": null,
      "outputs": [
        {
          "output_type": "display_data",
          "data": {
            "image/png": "[encoded data removed]",
            "text/plain": [
              "<Figure size 720x576 with 2 Axes>"
            ]
          },
          "metadata": {
            "tags": [],
            "needs_background": "light"
          }
        }
      ]
    },
    {
      "cell_type": "code",
      "metadata": {
        "id": "bme1o5U_KCRX",
        "colab_type": "code",
        "colab": {}
      },
      "source": [
        ""
      ],
      "execution_count": null,
      "outputs": []
    }
  ]
}